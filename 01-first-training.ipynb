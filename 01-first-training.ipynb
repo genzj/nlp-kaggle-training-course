{
 "cells": [
  {
   "cell_type": "code",
   "execution_count": 1,
   "metadata": {},
   "outputs": [],
   "source": [
    "import pandas as pd\n",
    "import numpy as np\n",
    "\n",
    "from sklearn.metrics import log_loss, accuracy_score, classification_report, plot_confusion_matrix, balanced_accuracy_score\n",
    "from sklearn import preprocessing\n",
    "from sklearn.model_selection import train_test_split\n",
    "from sklearn.feature_extraction.text import CountVectorizer\n",
    "from sklearn.linear_model import LogisticRegression, LogisticRegressionCV\n",
    "\n",
    "import matplotlib.pyplot as plt\n",
    "import seaborn as sns\n",
    "%matplotlib inline\n",
    "sns.set()"
   ]
  },
  {
   "cell_type": "code",
   "execution_count": 2,
   "metadata": {},
   "outputs": [],
   "source": [
    "train = pd.read_csv('../input/train.csv')\n",
    "test = pd.read_csv('../input/test.csv')\n",
    "sample = pd.read_csv('../input/sample_submission.csv')"
   ]
  },
  {
   "cell_type": "code",
   "execution_count": 3,
   "metadata": {},
   "outputs": [
    {
     "data": {
      "text/html": [
       "<div>\n",
       "<style scoped>\n",
       "    .dataframe tbody tr th:only-of-type {\n",
       "        vertical-align: middle;\n",
       "    }\n",
       "\n",
       "    .dataframe tbody tr th {\n",
       "        vertical-align: top;\n",
       "    }\n",
       "\n",
       "    .dataframe thead th {\n",
       "        text-align: right;\n",
       "    }\n",
       "</style>\n",
       "<table border=\"1\" class=\"dataframe\">\n",
       "  <thead>\n",
       "    <tr style=\"text-align: right;\">\n",
       "      <th></th>\n",
       "      <th>id</th>\n",
       "      <th>text</th>\n",
       "      <th>author</th>\n",
       "    </tr>\n",
       "  </thead>\n",
       "  <tbody>\n",
       "    <tr>\n",
       "      <th>0</th>\n",
       "      <td>id26305</td>\n",
       "      <td>This process, however, afforded me no means of...</td>\n",
       "      <td>EAP</td>\n",
       "    </tr>\n",
       "    <tr>\n",
       "      <th>1</th>\n",
       "      <td>id17569</td>\n",
       "      <td>It never once occurred to me that the fumbling...</td>\n",
       "      <td>HPL</td>\n",
       "    </tr>\n",
       "    <tr>\n",
       "      <th>2</th>\n",
       "      <td>id11008</td>\n",
       "      <td>In his left hand was a gold snuff box, from wh...</td>\n",
       "      <td>EAP</td>\n",
       "    </tr>\n",
       "    <tr>\n",
       "      <th>3</th>\n",
       "      <td>id27763</td>\n",
       "      <td>How lovely is spring As we looked from Windsor...</td>\n",
       "      <td>MWS</td>\n",
       "    </tr>\n",
       "    <tr>\n",
       "      <th>4</th>\n",
       "      <td>id12958</td>\n",
       "      <td>Finding nothing else, not even gold, the Super...</td>\n",
       "      <td>HPL</td>\n",
       "    </tr>\n",
       "  </tbody>\n",
       "</table>\n",
       "</div>"
      ],
      "text/plain": [
       "        id                                               text author\n",
       "0  id26305  This process, however, afforded me no means of...    EAP\n",
       "1  id17569  It never once occurred to me that the fumbling...    HPL\n",
       "2  id11008  In his left hand was a gold snuff box, from wh...    EAP\n",
       "3  id27763  How lovely is spring As we looked from Windsor...    MWS\n",
       "4  id12958  Finding nothing else, not even gold, the Super...    HPL"
      ]
     },
     "execution_count": 3,
     "metadata": {},
     "output_type": "execute_result"
    }
   ],
   "source": [
    "train.head()"
   ]
  },
  {
   "cell_type": "markdown",
   "metadata": {},
   "source": [
    "## 标签编码"
   ]
  },
  {
   "cell_type": "code",
   "execution_count": 4,
   "metadata": {},
   "outputs": [],
   "source": [
    "lbl_enc = preprocessing.LabelEncoder()\n",
    "y = lbl_enc.fit_transform(train.author.values)"
   ]
  },
  {
   "cell_type": "code",
   "execution_count": 5,
   "metadata": {},
   "outputs": [
    {
     "name": "stdout",
     "output_type": "stream",
     "text": [
      "['EAP' 'HPL' 'EAP' 'MWS' 'HPL' 'MWS' 'EAP' 'EAP' 'EAP' 'MWS']\n",
      "[0 1 0 2 1 2 0 0 0 2]\n"
     ]
    }
   ],
   "source": [
    "print(train[:10]['author'].to_numpy())\n",
    "print(y[:10])"
   ]
  },
  {
   "cell_type": "code",
   "execution_count": 6,
   "metadata": {},
   "outputs": [
    {
     "name": "stdout",
     "output_type": "stream",
     "text": [
      "['EAP' 'HPL' 'MWS']\n"
     ]
    }
   ],
   "source": [
    "print(lbl_enc.classes_)"
   ]
  },
  {
   "cell_type": "markdown",
   "metadata": {},
   "source": [
    "## 训练样本拆分"
   ]
  },
  {
   "cell_type": "code",
   "execution_count": 7,
   "metadata": {},
   "outputs": [
    {
     "name": "stdout",
     "output_type": "stream",
     "text": [
      "origin: [0.40349354 0.28780837 0.30869809]\n",
      "train: [0.40349583 0.28778162 0.30872255]\n",
      "valid: [0.40347293 0.28804903 0.30847804]\n"
     ]
    },
    {
     "data": {
      "image/png": "[encoded data removed]",
      "text/plain": [
       "<Figure size 432x288 with 1 Axes>"
      ]
     },
     "metadata": {},
     "output_type": "display_data"
    }
   ],
   "source": [
    "xtrain, xvalid, ytrain, yvalid = train_test_split(\n",
    "    train.text.values, y, \n",
    "    stratify=y,\n",
    "    random_state=42, \n",
    "    test_size=0.1, shuffle=True\n",
    ")\n",
    "sns.histplot(y, label='origin', kde=False, color='blue', stat='probability')\n",
    "sns.histplot(ytrain + 0.15, label='train', kde=False, color='orange', stat='probability')\n",
    "sns.histplot(yvalid + 0.3, label='valid', kde=False, color='green', stat='probability')\n",
    "plt.legend()\n",
    "print('origin:', np.bincount(y)/len(y))\n",
    "print('train:', np.bincount(ytrain)/len(ytrain))\n",
    "print('valid:', np.bincount(yvalid)/len(yvalid))"
   ]
  },
  {
   "cell_type": "markdown",
   "metadata": {},
   "source": [
    "## 特征提取"
   ]
  },
  {
   "cell_type": "code",
   "execution_count": 8,
   "metadata": {},
   "outputs": [],
   "source": [
    "ctv = CountVectorizer(\n",
    "    analyzer='word',token_pattern=r'\\w{1,}',\n",
    "    ngram_range=(1, 3), stop_words = 'english'\n",
    ")\n",
    "ctv.fit(list(xtrain) + list(xvalid))\n",
    "xtrain_ctv =  ctv.transform(xtrain) \n",
    "xvalid_ctv = ctv.transform(xvalid)"
   ]
  },
  {
   "cell_type": "code",
   "execution_count": 9,
   "metadata": {},
   "outputs": [
    {
     "name": "stdout",
     "output_type": "stream",
     "text": [
      "Her hair was the brightest living gold, and despite the poverty of her clothing, seemed to set a crown of distinction on her head.\n",
      "(array([0, 0, 0, 0, 0, 0, 0, 0, 0, 0, 0, 0, 0, 0, 0, 0, 0, 0, 0, 0, 0, 0,\n",
      "       0, 0, 0, 0, 0, 0, 0, 0]), array([ 38996,  39003,  39004,  56419,  56435,  56436,  71852,  71857,\n",
      "        71858,  84859,  84925,  84926,  92662,  92677, 146831, 146842,\n",
      "       146843, 153806, 153829, 153830, 158208, 203649, 203713, 203714,\n",
      "       266371, 266382, 266383, 312719, 312787, 312788]))\n"
     ]
    }
   ],
   "source": [
    "print(xtrain[0])\n",
    "print(xtrain_ctv[0].nonzero())"
   ]
  },
  {
   "cell_type": "code",
   "execution_count": 10,
   "metadata": {},
   "outputs": [
    {
     "data": {
      "text/plain": [
       "(17621, 400266)"
      ]
     },
     "execution_count": 10,
     "metadata": {},
     "output_type": "execute_result"
    }
   ],
   "source": [
    "xtrain_ctv.shape"
   ]
  },
  {
   "cell_type": "code",
   "execution_count": 11,
   "metadata": {},
   "outputs": [],
   "source": [
    "features = np.array(ctv.get_feature_names())"
   ]
  },
  {
   "cell_type": "code",
   "execution_count": 12,
   "metadata": {},
   "outputs": [
    {
     "data": {
      "text/plain": [
       "(400266,)"
      ]
     },
     "execution_count": 12,
     "metadata": {},
     "output_type": "execute_result"
    }
   ],
   "source": [
    "features.shape"
   ]
  },
  {
   "cell_type": "code",
   "execution_count": 13,
   "metadata": {},
   "outputs": [
    {
     "name": "stdout",
     "output_type": "stream",
     "text": [
      "['brightest' 'brightest living' 'brightest living gold' 'clothing'\n",
      " 'clothing set' 'clothing set crown' 'crown' 'crown distinction'\n",
      " 'crown distinction head' 'despite' 'despite poverty'\n",
      " 'despite poverty clothing' 'distinction' 'distinction head' 'gold'\n",
      " 'gold despite' 'gold despite poverty' 'hair' 'hair brightest'\n",
      " 'hair brightest living' 'head' 'living' 'living gold'\n",
      " 'living gold despite' 'poverty' 'poverty clothing' 'poverty clothing set'\n",
      " 'set' 'set crown' 'set crown distinction']\n"
     ]
    }
   ],
   "source": [
    "print(features[xtrain_ctv[0].nonzero()[1]])"
   ]
  },
  {
   "cell_type": "markdown",
   "metadata": {},
   "source": [
    "## 训练逻辑回归模型"
   ]
  },
  {
   "cell_type": "code",
   "execution_count": 14,
   "metadata": {},
   "outputs": [
    {
     "data": {
      "text/plain": [
       "LogisticRegression(C=2.7825594, max_iter=1000)"
      ]
     },
     "execution_count": 14,
     "metadata": {},
     "output_type": "execute_result"
    }
   ],
   "source": [
    "clf = LogisticRegression(C=2.7825594, max_iter=1000)\n",
    "clf.fit(xtrain_ctv, ytrain)"
   ]
  },
  {
   "cell_type": "markdown",
   "metadata": {},
   "source": [
    "## 模型评估"
   ]
  },
  {
   "cell_type": "code",
   "execution_count": 15,
   "metadata": {},
   "outputs": [
    {
     "name": "stdout",
     "output_type": "stream",
     "text": [
      "train set: logloss: 0.040\n",
      "valid set: logloss: 0.532\n"
     ]
    }
   ],
   "source": [
    "predictions = clf.predict_proba(xtrain_ctv)\n",
    "print (\"train set: logloss: %0.3f\" % (log_loss(ytrain, predictions), ))\n",
    "\n",
    "predictions = clf.predict_proba(xvalid_ctv)\n",
    "print (\"valid set: logloss: %0.3f\" % (log_loss(yvalid, predictions), ))"
   ]
  },
  {
   "cell_type": "code",
   "execution_count": 16,
   "metadata": {},
   "outputs": [
    {
     "name": "stdout",
     "output_type": "stream",
     "text": [
      "train set\n",
      "              precision    recall  f1-score   support\n",
      "\n",
      "         EAP       1.00      1.00      1.00      7110\n",
      "         HPL       1.00      1.00      1.00      5071\n",
      "         MWS       1.00      1.00      1.00      5440\n",
      "\n",
      "    accuracy                           1.00     17621\n",
      "   macro avg       1.00      1.00      1.00     17621\n",
      "weighted avg       1.00      1.00      1.00     17621\n",
      "\n",
      "----------------------------------------------------------------------\n",
      "validate set\n",
      "              precision    recall  f1-score   support\n",
      "\n",
      "         EAP      0.731     0.848     0.785       790\n",
      "         HPL      0.840     0.706     0.767       564\n",
      "         MWS      0.789     0.742     0.765       604\n",
      "\n",
      "    accuracy                          0.774      1958\n",
      "   macro avg      0.787     0.765     0.772      1958\n",
      "weighted avg      0.780     0.774     0.774      1958\n",
      "\n"
     ]
    }
   ],
   "source": [
    "predictions = clf.predict(xtrain_ctv)\n",
    "print('train set')\n",
    "print(classification_report(ytrain, predictions, target_names=lbl_enc.classes_))\n",
    "\n",
    "print('-' * 70)\n",
    "predictions = clf.predict(xvalid_ctv)\n",
    "print('validate set')\n",
    "print(classification_report(yvalid, predictions, target_names=lbl_enc.classes_, digits=3))\n",
    "\n",
    "# https://scikit-learn.org/stable/modules/model_evaluation.html#precision-recall-f-measure-metrics"
   ]
  },
  {
   "cell_type": "code",
   "execution_count": 17,
   "metadata": {},
   "outputs": [
    {
     "data": {
      "image/png": "[encoded data removed]",
      "text/plain": [
       "<Figure size 432x288 with 2 Axes>"
      ]
     },
     "metadata": {},
     "output_type": "display_data"
    }
   ],
   "source": [
    "plot_confusion_matrix(clf, xvalid_ctv, yvalid, display_labels=lbl_enc.classes_, values_format='d', cmap='Blues')\n",
    "plt.grid(False)"
   ]
  },
  {
   "cell_type": "code",
   "execution_count": 18,
   "metadata": {},
   "outputs": [
    {
     "name": "stdout",
     "output_type": "stream",
     "text": [
      "accuracy: 0.774 balanced accuracy: 0.765\n"
     ]
    }
   ],
   "source": [
    "print(\n",
    "    'accuracy: %.3f balanced accuracy: %.3f' % (\n",
    "        accuracy_score(yvalid, clf.predict(xvalid_ctv)),\n",
    "        balanced_accuracy_score(yvalid, clf.predict(xvalid_ctv)),\n",
    "    )\n",
    ")"
   ]
  },
  {
   "cell_type": "markdown",
   "metadata": {},
   "source": [
    "## 平衡各类训练数据"
   ]
  },
  {
   "cell_type": "code",
   "execution_count": 19,
   "metadata": {},
   "outputs": [
    {
     "name": "stdout",
     "output_type": "stream",
     "text": [
      "5071 examples chosen from each class, got 15213 balanced train examples\n"
     ]
    },
    {
     "data": {
      "text/plain": [
       "<AxesSubplot:ylabel='Probability'>"
      ]
     },
     "execution_count": 19,
     "metadata": {},
     "output_type": "execute_result"
    },
    {
     "data": {
      "image/png": "[encoded data removed]",
      "text/plain": [
       "<Figure size 432x288 with 1 Axes>"
      ]
     },
     "metadata": {},
     "output_type": "display_data"
    }
   ],
   "source": [
    "from scipy.sparse import vstack\n",
    "from sklearn.utils import shuffle\n",
    "\n",
    "num_classes = len(lbl_enc.classes_)\n",
    "balanced_num = min(map(lambda label: xtrain_ctv[ytrain==label].shape[0], range(num_classes)))\n",
    "l = tuple(map(lambda label: xtrain_ctv[ytrain==label][:balanced_num], range(num_classes)))\n",
    "balanced_xtrain_ctv = vstack(l)\n",
    "balanced_ytrain = np.repeat(range(num_classes), balanced_num)\n",
    "\n",
    "balanced_xtrain_ctv, balanced_ytrain = shuffle(balanced_xtrain_ctv, balanced_ytrain)\n",
    "print('%d examples chosen from each class, got %d balanced train examples' % (balanced_num, len(balanced_ytrain)))\n",
    "sns.histplot(balanced_ytrain, kde=True, stat=\"probability\")"
   ]
  },
  {
   "cell_type": "code",
   "execution_count": 20,
   "metadata": {},
   "outputs": [
    {
     "data": {
      "text/plain": [
       "LogisticRegression(C=2.7825594, max_iter=1000)"
      ]
     },
     "execution_count": 20,
     "metadata": {},
     "output_type": "execute_result"
    }
   ],
   "source": [
    "clfb = LogisticRegression(C=2.7825594, max_iter=1000)\n",
    "clfb.fit(balanced_xtrain_ctv, balanced_ytrain)"
   ]
  },
  {
   "cell_type": "code",
   "execution_count": 21,
   "metadata": {},
   "outputs": [
    {
     "name": "stdout",
     "output_type": "stream",
     "text": [
      "accuracy: 0.776 balanced accuracy: 0.774\n"
     ]
    },
    {
     "data": {
      "image/png": "[encoded data removed]",
      "text/plain": [
       "<Figure size 432x288 with 2 Axes>"
      ]
     },
     "metadata": {},
     "output_type": "display_data"
    }
   ],
   "source": [
    "plot_confusion_matrix(clfb, xvalid_ctv, yvalid, display_labels=lbl_enc.classes_, values_format='d', cmap='Blues')\n",
    "plt.grid(False)\n",
    "print(\n",
    "    'accuracy: %.3f balanced accuracy: %.3f' % (\n",
    "        accuracy_score(yvalid, clfb.predict(xvalid_ctv)),\n",
    "        balanced_accuracy_score(yvalid, clfb.predict(xvalid_ctv)),\n",
    "    )\n",
    ")"
   ]
  },
  {
   "cell_type": "code",
   "execution_count": null,
   "metadata": {},
   "outputs": [],
   "source": []
  }
 ],
 "metadata": {
  "kernelspec": {
   "display_name": "Python 3",
   "language": "python",
   "name": "python3"
  },
  "language_info": {
   "codemirror_mode": {
    "name": "ipython",
    "version": 3
   },
   "file_extension": ".py",
   "mimetype": "text/x-python",
   "name": "python",
   "nbconvert_exporter": "python",
   "pygments_lexer": "ipython3",
   "version": "3.7.5"
  }
 },
 "nbformat": 4,
 "nbformat_minor": 4
}
