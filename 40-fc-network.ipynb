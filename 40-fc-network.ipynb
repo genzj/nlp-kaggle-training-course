{
 "cells": [
  {
   "cell_type": "code",
   "execution_count": 1,
   "metadata": {},
   "outputs": [],
   "source": [
    "import pandas as pd\n",
    "import numpy as np\n",
    "import pickle\n",
    "from tqdm.notebook import tqdm\n",
    "\n",
    "from sklearn.metrics import log_loss, accuracy_score, classification_report, plot_confusion_matrix, balanced_accuracy_score\n",
    "from sklearn.model_selection import train_test_split\n",
    "from sklearn import preprocessing\n",
    "\n",
    "from tensorflow.keras.models import Sequential\n",
    "from tensorflow.keras.layers import Dense, Activation, Dropout\n",
    "from tensorflow.keras.layers import Embedding\n",
    "from tensorflow.keras.layers import BatchNormalization, LayerNormalization\n",
    "from tensorflow.keras import utils\n",
    "from tensorflow.keras.preprocessing import sequence, text\n",
    "from tensorflow.keras.callbacks import EarlyStopping\n",
    "\n",
    "import matplotlib.pyplot as plt\n",
    "import seaborn as sns\n",
    "%matplotlib inline\n",
    "sns.set()"
   ]
  },
  {
   "cell_type": "markdown",
   "metadata": {},
   "source": [
    "## 几个可视化函数\n",
    "\n",
    "对于keras模型，离散分类预测要使用`predict_classes`。\n",
    "\n",
    "`plot_confusion_matrix`不能用于keras模型，需要自己实现。使用`seaborn.heatmap`可以简单实现一个兼容版本。"
   ]
  },
  {
   "cell_type": "code",
   "execution_count": 2,
   "metadata": {},
   "outputs": [],
   "source": [
    "history = pd.DataFrame(\n",
    "    [],\n",
    "    columns=pd.MultiIndex.from_product([['train', 'validate'], ['logloss', 'accuracy']]),\n",
    "    dtype='float32'\n",
    ")\n",
    "\n",
    "def plot_confusion_matrix_keras(model, x, y, display_labels=None, values_format='d', cmap='Blues'):\n",
    "    classes = np.unique(y)\n",
    "    if display_labels is None:\n",
    "        display_labels = list(classes)\n",
    "    d = []\n",
    "    for cls in classes:\n",
    "        predictions = model.predict_classes(x[y==cls])\n",
    "        d.append([np.count_nonzero(predictions==subcls) for subcls in classes])\n",
    "    d = np.asarray(d)\n",
    "    sns.heatmap(\n",
    "        d, cmap=cmap, fmt=values_format,\n",
    "        annot=True, square=True, xticklabels=display_labels, yticklabels=display_labels\n",
    "    )\n",
    "    plt.xlabel('Predicted label')\n",
    "    plt.ylabel('Truth label')\n",
    "\n",
    "def evaluate_model(clf, slug, xtrain, ytrain, xvalid, yvalid, fit=True):\n",
    "    global history\n",
    "    if fit:\n",
    "        clf.fit(xtrain, ytrain)\n",
    "\n",
    "    # print loss values\n",
    "    predictions = clf.predict_proba(xtrain)\n",
    "    print (\"train set: logloss: %0.3f\" % (log_loss(ytrain, predictions), ))\n",
    "    history.loc[slug, ('train', 'logloss')] = log_loss(ytrain, predictions)\n",
    "    predictions = clf.predict_proba(xvalid)\n",
    "    print (\"valid set: logloss: %0.3f\" % (log_loss(yvalid, predictions), ))\n",
    "    history.loc[slug, ('validate', 'logloss')] = log_loss(yvalid, predictions)\n",
    "    \n",
    "    # print accuracy matrix\n",
    "    predictions = clf.predict_classes(xtrain)\n",
    "    print('train set')\n",
    "    print(classification_report(ytrain, predictions, target_names=lbl_enc.classes_, digits=3))\n",
    "    print('-' * 70)\n",
    "    predictions = clf.predict_classes(xvalid)\n",
    "    print('validate set')\n",
    "    print(classification_report(yvalid, predictions, target_names=lbl_enc.classes_, digits=3))\n",
    "\n",
    "    plot_confusion_matrix_keras(clf, xvalid, yvalid, display_labels=lbl_enc.classes_, values_format='d', cmap='Blues')\n",
    "    plt.grid(False)\n",
    "    \n",
    "    history.loc[slug, ('train', 'accuracy')] = balanced_accuracy_score(ytrain, clf.predict_classes(xtrain))\n",
    "    history.loc[slug, ('validate', 'accuracy')] = balanced_accuracy_score(yvalid, clf.predict_classes(xvalid))"
   ]
  },
  {
   "cell_type": "code",
   "execution_count": 3,
   "metadata": {},
   "outputs": [],
   "source": [
    "def plot_keras_history(history):\n",
    "    plt.figure(figsize=(14, 7))\n",
    "    # Plot training & validation accuracy values\n",
    "    plt.subplot(121)\n",
    "    plt.plot(history.history['categorical_accuracy'])\n",
    "    plt.plot(history.history['val_categorical_accuracy'])\n",
    "    plt.title('Model accuracy')\n",
    "    plt.ylabel('Accuracy')\n",
    "    plt.xlabel('Epoch')\n",
    "    plt.legend(['Train', 'Validate'], loc='upper left')\n",
    "\n",
    "    # Plot training & validation loss values\n",
    "    plt.subplot(122)\n",
    "    plt.plot(history.history['loss'])\n",
    "    plt.plot(history.history['val_loss'])\n",
    "    plt.title('Model loss')\n",
    "    plt.ylabel('Loss')\n",
    "    plt.xlabel('Epoch')\n",
    "    plt.legend(['Train', 'Validate'], loc='upper left')\n",
    "\n",
    "    plt.show()\n",
    "    \n"
   ]
  },
  {
   "cell_type": "markdown",
   "metadata": {},
   "source": [
    "## 载入数据及标签化处理"
   ]
  },
  {
   "cell_type": "code",
   "execution_count": 4,
   "metadata": {},
   "outputs": [],
   "source": [
    "train = pd.read_csv('../input/train.csv')\n",
    "test = pd.read_csv('../input/test.csv')\n",
    "sample = pd.read_csv('../input/sample_submission.csv')"
   ]
  },
  {
   "cell_type": "code",
   "execution_count": 5,
   "metadata": {},
   "outputs": [],
   "source": [
    "lbl_enc = preprocessing.LabelEncoder()\n",
    "y = lbl_enc.fit_transform(train.author.values)\n",
    "xtrain, xvalid, ytrain, yvalid = train_test_split(train.text.values, y, \n",
    "                                                  stratify=y, \n",
    "                                                  random_state=42, \n",
    "                                                  test_size=0.1, shuffle=True)"
   ]
  },
  {
   "cell_type": "markdown",
   "metadata": {},
   "source": [
    "深度学习神经网络一般使用one-hot编码输出，因此多增加一个`to_categorical`的步骤。"
   ]
  },
  {
   "cell_type": "code",
   "execution_count": 6,
   "metadata": {},
   "outputs": [
    {
     "data": {
      "text/html": [
       "<div>\n",
       "<style scoped>\n",
       "    .dataframe tbody tr th:only-of-type {\n",
       "        vertical-align: middle;\n",
       "    }\n",
       "\n",
       "    .dataframe tbody tr th {\n",
       "        vertical-align: top;\n",
       "    }\n",
       "\n",
       "    .dataframe thead th {\n",
       "        text-align: right;\n",
       "    }\n",
       "</style>\n",
       "<table border=\"1\" class=\"dataframe\">\n",
       "  <thead>\n",
       "    <tr style=\"text-align: right;\">\n",
       "      <th></th>\n",
       "      <th>author</th>\n",
       "      <th>label</th>\n",
       "      <th>encoded</th>\n",
       "    </tr>\n",
       "  </thead>\n",
       "  <tbody>\n",
       "    <tr>\n",
       "      <th>0</th>\n",
       "      <td>MWS</td>\n",
       "      <td>2</td>\n",
       "      <td>[0.0, 0.0, 1.0]</td>\n",
       "    </tr>\n",
       "    <tr>\n",
       "      <th>1</th>\n",
       "      <td>EAP</td>\n",
       "      <td>0</td>\n",
       "      <td>[1.0, 0.0, 0.0]</td>\n",
       "    </tr>\n",
       "    <tr>\n",
       "      <th>2</th>\n",
       "      <td>MWS</td>\n",
       "      <td>2</td>\n",
       "      <td>[0.0, 0.0, 1.0]</td>\n",
       "    </tr>\n",
       "    <tr>\n",
       "      <th>3</th>\n",
       "      <td>HPL</td>\n",
       "      <td>1</td>\n",
       "      <td>[0.0, 1.0, 0.0]</td>\n",
       "    </tr>\n",
       "    <tr>\n",
       "      <th>4</th>\n",
       "      <td>MWS</td>\n",
       "      <td>2</td>\n",
       "      <td>[0.0, 0.0, 1.0]</td>\n",
       "    </tr>\n",
       "  </tbody>\n",
       "</table>\n",
       "</div>"
      ],
      "text/plain": [
       "  author  label          encoded\n",
       "0    MWS      2  [0.0, 0.0, 1.0]\n",
       "1    EAP      0  [1.0, 0.0, 0.0]\n",
       "2    MWS      2  [0.0, 0.0, 1.0]\n",
       "3    HPL      1  [0.0, 1.0, 0.0]\n",
       "4    MWS      2  [0.0, 0.0, 1.0]"
      ]
     },
     "execution_count": 6,
     "metadata": {},
     "output_type": "execute_result"
    }
   ],
   "source": [
    "# we need to binarize the labels for the neural net\n",
    "ytrain_enc = utils.to_categorical(ytrain)\n",
    "yvalid_enc = utils.to_categorical(yvalid)\n",
    "pd.DataFrame({\n",
    "    'author': np.asarray(lbl_enc.classes_)[ytrain],\n",
    "    'label': ytrain,\n",
    "    'encoded': ytrain_enc.tolist()\n",
    "}).head()"
   ]
  },
  {
   "cell_type": "markdown",
   "metadata": {},
   "source": [
    "`keras.text.Tokenizer`实现了词袋、计数、词频和TF-IDF多种特征提取方式。一般可以直接使用，不必再使用`sklearn`的类似组件。"
   ]
  },
  {
   "cell_type": "code",
   "execution_count": 7,
   "metadata": {},
   "outputs": [],
   "source": [
    "# using keras tokenizer here\n",
    "token = text.Tokenizer(num_words=None)\n",
    "\n",
    "token.fit_on_texts(list(xtrain) + list(xvalid))\n",
    "\n",
    "word_index = token.word_index"
   ]
  },
  {
   "cell_type": "code",
   "execution_count": 8,
   "metadata": {},
   "outputs": [
    {
     "name": "stdout",
     "output_type": "stream",
     "text": [
      "original text:\n",
      "   Her hair was the brightest living gold, and despite the poverty of her clothing, seemed to set a crown of distinction on her head. \n",
      "\n",
      "encoded features:\n",
      "   [0. 2. 2. ... 0. 0. 0.] \n",
      "\n",
      "nonzero position:\n",
      "   (array([   1,    2,    3,    4,    5,    8,   27,   29,   98,  166,  326,\n",
      "        459,  560,  714,  987, 1794, 2545, 3103, 3695, 5924], dtype=int64),) \n",
      "\n",
      "nonzero values:\n",
      "   [2. 2. 1. 1. 1. 1. 1. 3. 1. 1. 1. 1. 1. 1. 1. 1. 1. 1. 1. 1.] \n",
      "\n",
      "nonzero words:\n",
      "   ['the', 'of', 'and', 'to', 'a', 'was', 'on', 'her', 'seemed', 'head', 'set', 'living', 'hair', 'gold', 'despite', 'poverty', 'crown', 'distinction', 'clothing', 'brightest'] \n",
      "\n"
     ]
    }
   ],
   "source": [
    "# mode: one of \"binary\", \"count\", \"tfidf\", \"freq\".\n",
    "xtrain_enc = token.texts_to_matrix(xtrain, mode='count')\n",
    "xvalid_enc = token.texts_to_matrix(xvalid, mode='count')\n",
    "\n",
    "\n",
    "print('original text:\\n  ', xtrain[0], '\\n')\n",
    "print('encoded features:\\n  ', xtrain_enc[0], '\\n')\n",
    "print('nonzero position:\\n  ', np.nonzero(xtrain_enc[0]), '\\n')\n",
    "print('nonzero values:\\n  ', xtrain_enc[0][xtrain_enc[0] > 0], '\\n')\n",
    "print('nonzero words:\\n  ', [token.index_word.get(idx, 'PAD') for idx, x in enumerate(xtrain_enc[0]) if x ], '\\n')"
   ]
  },
  {
   "cell_type": "markdown",
   "metadata": {},
   "source": [
    "## 模型搭建"
   ]
  },
  {
   "cell_type": "code",
   "execution_count": 9,
   "metadata": {},
   "outputs": [],
   "source": [
    "# create a simple 3 layer sequential neural net\n",
    "model = Sequential()\n",
    "\n",
    "model.add(Dense(300, activation='relu', input_dim=len(xtrain_enc[0])))\n",
    "model.add(Dropout(0.2))\n",
    "model.add(BatchNormalization())\n",
    "\n",
    "model.add(Dense(300, activation='relu'))\n",
    "model.add(Dropout(0.3))\n",
    "model.add(BatchNormalization())\n",
    "\n",
    "model.add(Dense(3))\n",
    "model.add(Activation('softmax'))\n",
    "\n",
    "# compile the model\n",
    "model.compile(loss='categorical_crossentropy', optimizer='adam', metrics=['categorical_accuracy', ])"
   ]
  },
  {
   "cell_type": "markdown",
   "metadata": {},
   "source": [
    "## 训练"
   ]
  },
  {
   "cell_type": "code",
   "execution_count": 10,
   "metadata": {
    "scrolled": false
   },
   "outputs": [
    {
     "name": "stdout",
     "output_type": "stream",
     "text": [
      "Train on 17621 samples, validate on 1958 samples\n",
      "Epoch 1/100\n",
      "17621/17621 [==============================] - 4s 205us/sample - loss: 0.7758 - categorical_accuracy: 0.6795 - val_loss: 0.9591 - val_categorical_accuracy: 0.4423\n",
      "Epoch 2/100\n",
      "17621/17621 [==============================] - 3s 149us/sample - loss: 0.1833 - categorical_accuracy: 0.9377 - val_loss: 0.8978 - val_categorical_accuracy: 0.4796\n",
      "Epoch 3/100\n",
      "17621/17621 [==============================] - 3s 146us/sample - loss: 0.0601 - categorical_accuracy: 0.9827 - val_loss: 0.8785 - val_categorical_accuracy: 0.4796\n",
      "Epoch 4/100\n",
      "17621/17621 [==============================] - 3s 148us/sample - loss: 0.0218 - categorical_accuracy: 0.9957 - val_loss: 0.8579 - val_categorical_accuracy: 0.5056\n",
      "Epoch 5/100\n",
      "17621/17621 [==============================] - 3s 147us/sample - loss: 0.0102 - categorical_accuracy: 0.9982 - val_loss: 0.8215 - val_categorical_accuracy: 0.5342\n",
      "Epoch 6/100\n",
      "17621/17621 [==============================] - 3s 162us/sample - loss: 0.0057 - categorical_accuracy: 0.9992 - val_loss: 0.7732 - val_categorical_accuracy: 0.5986\n",
      "Epoch 7/100\n",
      "17621/17621 [==============================] - 3s 161us/sample - loss: 0.0040 - categorical_accuracy: 0.9994 - val_loss: 0.7513 - val_categorical_accuracy: 0.6231\n",
      "Epoch 8/100\n",
      "17621/17621 [==============================] - 3s 161us/sample - loss: 0.0026 - categorical_accuracy: 0.9999 - val_loss: 0.6547 - val_categorical_accuracy: 0.6961\n",
      "Epoch 9/100\n",
      "17621/17621 [==============================] - 3s 153us/sample - loss: 0.0020 - categorical_accuracy: 0.9999 - val_loss: 0.6148 - val_categorical_accuracy: 0.7257\n",
      "Epoch 10/100\n",
      "17621/17621 [==============================] - 3s 147us/sample - loss: 0.0015 - categorical_accuracy: 0.9998 - val_loss: 0.5571 - val_categorical_accuracy: 0.7702\n",
      "Epoch 11/100\n",
      "17621/17621 [==============================] - 3s 147us/sample - loss: 0.0014 - categorical_accuracy: 0.9999 - val_loss: 0.5150 - val_categorical_accuracy: 0.7952\n",
      "Epoch 12/100\n",
      "17621/17621 [==============================] - 3s 152us/sample - loss: 0.0010 - categorical_accuracy: 0.9999 - val_loss: 0.5068 - val_categorical_accuracy: 0.8085\n",
      "Epoch 13/100\n",
      "17621/17621 [==============================] - 3s 162us/sample - loss: 9.8633e-04 - categorical_accuracy: 0.9998 - val_loss: 0.5186 - val_categorical_accuracy: 0.8080\n",
      "Epoch 14/100\n",
      "17621/17621 [==============================] - 3s 162us/sample - loss: 9.6949e-04 - categorical_accuracy: 0.9998 - val_loss: 0.5156 - val_categorical_accuracy: 0.8228\n",
      "Epoch 15/100\n",
      "17621/17621 [==============================] - 3s 161us/sample - loss: 8.2179e-04 - categorical_accuracy: 0.9999 - val_loss: 0.5146 - val_categorical_accuracy: 0.8330\n",
      "Epoch 16/100\n",
      "17621/17621 [==============================] - 3s 148us/sample - loss: 5.2772e-04 - categorical_accuracy: 1.0000 - val_loss: 0.5405 - val_categorical_accuracy: 0.8350\n",
      "Epoch 17/100\n",
      "17621/17621 [==============================] - 3s 147us/sample - loss: 4.5686e-04 - categorical_accuracy: 1.0000 - val_loss: 0.5678 - val_categorical_accuracy: 0.8345\n"
     ]
    },
    {
     "data": {
      "text/plain": [
       "<tensorflow.python.keras.callbacks.History at 0x26b602ee1c8>"
      ]
     },
     "execution_count": 10,
     "metadata": {},
     "output_type": "execute_result"
    }
   ],
   "source": [
    "earlystop = EarlyStopping(monitor='val_loss', min_delta=0, patience=5, verbose=0, mode='auto')\n",
    "model.fit(\n",
    "    xtrain_enc, y=ytrain_enc, batch_size=512, epochs=100, \n",
    "    verbose=1, validation_data=(xvalid_enc, yvalid_enc), callbacks=[earlystop]\n",
    ")"
   ]
  },
  {
   "cell_type": "code",
   "execution_count": 11,
   "metadata": {},
   "outputs": [
    {
     "data": {
      "image/png": "[encoded data removed]",
      "text/plain": [
       "<Figure size 1008x504 with 2 Axes>"
      ]
     },
     "metadata": {},
     "output_type": "display_data"
    },
    {
     "name": "stdout",
     "output_type": "stream",
     "text": [
      "Model: \"sequential\"\n",
      "_________________________________________________________________\n",
      "Layer (type)                 Output Shape              Param #   \n",
      "=================================================================\n",
      "dense (Dense)                (None, 300)               7783500   \n",
      "_________________________________________________________________\n",
      "dropout (Dropout)            (None, 300)               0         \n",
      "_________________________________________________________________\n",
      "batch_normalization (BatchNo (None, 300)               1200      \n",
      "_________________________________________________________________\n",
      "dense_1 (Dense)              (None, 300)               90300     \n",
      "_________________________________________________________________\n",
      "dropout_1 (Dropout)          (None, 300)               0         \n",
      "_________________________________________________________________\n",
      "batch_normalization_1 (Batch (None, 300)               1200      \n",
      "_________________________________________________________________\n",
      "dense_2 (Dense)              (None, 3)                 903       \n",
      "_________________________________________________________________\n",
      "activation (Activation)      (None, 3)                 0         \n",
      "=================================================================\n",
      "Total params: 7,877,103\n",
      "Trainable params: 7,875,903\n",
      "Non-trainable params: 1,200\n",
      "_________________________________________________________________\n"
     ]
    }
   ],
   "source": [
    "plot_keras_history(model.history)\n",
    "model.summary()"
   ]
  },
  {
   "cell_type": "markdown",
   "metadata": {},
   "source": [
    "## 模型评估"
   ]
  },
  {
   "cell_type": "code",
   "execution_count": 12,
   "metadata": {
    "scrolled": false
   },
   "outputs": [
    {
     "name": "stdout",
     "output_type": "stream",
     "text": [
      "train set: logloss: 0.001\n",
      "valid set: logloss: 0.568\n",
      "train set\n",
      "              precision    recall  f1-score   support\n",
      "\n",
      "         EAP      1.000     1.000     1.000      7110\n",
      "         HPL      1.000     1.000     1.000      5071\n",
      "         MWS      1.000     1.000     1.000      5440\n",
      "\n",
      "    accuracy                          1.000     17621\n",
      "   macro avg      1.000     1.000     1.000     17621\n",
      "weighted avg      1.000     1.000     1.000     17621\n",
      "\n",
      "----------------------------------------------------------------------\n",
      "validate set\n",
      "              precision    recall  f1-score   support\n",
      "\n",
      "         EAP      0.793     0.897     0.842       790\n",
      "         HPL      0.873     0.778     0.823       564\n",
      "         MWS      0.866     0.805     0.834       604\n",
      "\n",
      "    accuracy                          0.835      1958\n",
      "   macro avg      0.844     0.827     0.833      1958\n",
      "weighted avg      0.839     0.835     0.834      1958\n",
      "\n"
     ]
    },
    {
     "data": {
      "image/png": "[encoded data removed]",
      "text/plain": [
       "<Figure size 432x288 with 2 Axes>"
      ]
     },
     "metadata": {},
     "output_type": "display_data"
    }
   ],
   "source": [
    "evaluate_model(model, 'FC Network+BoW', xtrain_enc, ytrain, xvalid_enc, yvalid, fit=None)"
   ]
  },
  {
   "cell_type": "markdown",
   "metadata": {},
   "source": [
    "## 增加GloVec Embedding"
   ]
  },
  {
   "cell_type": "code",
   "execution_count": 13,
   "metadata": {},
   "outputs": [],
   "source": [
    "with open('./data/glove.compress.embeddings.pickle', 'rb') as f:\n",
    "    embeddings_index = pickle.load(f)\n",
    "\n",
    "with open('./data/glove.compress.vocabulary.pickle', 'rb') as f:\n",
    "    vocabulary = pickle.load(f)"
   ]
  },
  {
   "cell_type": "markdown",
   "metadata": {},
   "source": [
    "## 把GloVec查表转换为矩阵\n",
    "\n",
    "可以继续使用前几章的查表方式，但是这里引入嵌入矩阵的方法，以便后面用于深度学习的嵌入层"
   ]
  },
  {
   "cell_type": "code",
   "execution_count": 14,
   "metadata": {},
   "outputs": [
    {
     "data": {
      "application/vnd.jupyter.widget-view+json": {
       "model_id": "47291bf0d5e648e1890a8783fa0c0800",
       "version_major": 2,
       "version_minor": 0
      },
      "text/plain": [
       "HBox(children=(FloatProgress(value=0.0, max=25943.0), HTML(value='')))"
      ]
     },
     "metadata": {},
     "output_type": "display_data"
    },
    {
     "name": "stdout",
     "output_type": "stream",
     "text": [
      "\n",
      "shape of train matrix: (17621, 25944)\n",
      "shape of embedding matrix: (25944, 300)\n"
     ]
    }
   ],
   "source": [
    "# create an embedding matrix for the words we have in the dataset\n",
    "embedding_width = len(embeddings_index['the'])\n",
    "embedding_matrix = np.zeros((len(word_index) + 1, embedding_width))\n",
    "for word, i in tqdm(word_index.items()):\n",
    "    embedding_vector = embeddings_index.get(word)\n",
    "    if embedding_vector is not None:\n",
    "        embedding_matrix[i] = embedding_vector\n",
    "\n",
    "print('shape of train matrix:', xtrain_enc.shape)\n",
    "print('shape of embedding matrix:', embedding_matrix.shape)"
   ]
  },
  {
   "cell_type": "markdown",
   "metadata": {},
   "source": [
    "引入嵌入矩阵后，查表操作变成了查下标操作"
   ]
  },
  {
   "cell_type": "code",
   "execution_count": 15,
   "metadata": {
    "scrolled": false
   },
   "outputs": [
    {
     "name": "stdout",
     "output_type": "stream",
     "text": [
      "96\n",
      "[-0.013048    0.066305   -0.18674999 -0.077878   -0.16395    -0.25972\n",
      "  0.029303   -0.15825    -0.19078     2.8283     -0.163      -0.05534\n",
      "  0.22109     0.21402    -0.15347999 -0.066198    0.010375    1.1365\n",
      " -0.38681999  0.25817001 -0.096464   -0.084158    0.076939   -0.30340001\n",
      " -0.030256    0.13372    -0.17986    -0.30307001  0.052078   -0.28134999\n",
      " -0.45357001 -0.05815     0.13801999  0.12679    -0.15589    -0.096631\n",
      " -0.041036   -0.0067604  -0.20026    -0.1105     -0.16964     0.13875\n",
      " -0.077402   -0.061383   -0.097824   -0.14076    -0.20308    -0.18849\n",
      " -0.28672999  0.15407    -0.13096    -0.032663    0.090106   -0.12916\n",
      "  0.34599999 -0.018437   -0.011253   -0.35414001 -0.053053   -0.088397\n",
      " -0.30039999 -0.16288     0.088432    0.54714     0.45056     0.23582\n",
      " -0.24749     0.25558999  0.34963    -0.060627    0.0033251  -0.004153\n",
      "  0.46325999 -0.010819    0.24965    -0.065957    0.14683001 -0.30344\n",
      "  0.16347     0.16621999 -0.14835    -0.07946    -0.54354     0.015714\n",
      " -0.078799   -0.14466999  0.37518999 -0.50907999  0.64692003 -0.06475\n",
      "  0.0047104  -0.32128     0.18805     0.017691    0.18832999 -0.24505\n",
      "  0.053213   -0.16838001  0.12156     0.12594999  0.0043895   0.091413\n",
      "  0.16699     0.083326    0.28692999 -1.19799995  0.079144   -0.26556\n",
      " -0.1055      0.17050999 -0.079233   -0.15568     0.17802    -0.046595\n",
      "  0.1881     -0.0034248   0.25547999 -0.27743    -0.32530001  0.045473\n",
      " -0.0096462  -0.1367     -0.08057     0.0032752   0.074584    0.14272\n",
      "  0.21652    -0.39078    -0.031701   -0.070715    0.29497999  0.23434\n",
      " -0.36386001  0.24107     0.24823     0.048018    0.065419   -0.46959999\n",
      "  0.23973     0.052152   -1.06089997  0.32525     0.024722   -0.036017\n",
      "  0.16662    -0.21675    -0.011995   -0.046656   -0.068713   -0.017743\n",
      "  0.26954001  0.14283     0.06034     0.072853   -0.13725001 -0.36849001\n",
      " -0.12408    -0.052636   -0.041262    0.14796001  0.1266      0.052181\n",
      " -0.46619999  0.11243     0.011008   -0.25766     0.15135001 -0.35688001\n",
      "  0.056879    0.10319    -0.055751   -0.05556     0.391      -0.43695\n",
      "  0.057117    0.2613      0.25161001  0.39667001  0.18093    -0.034625\n",
      " -0.23879001  0.19506    -0.058964   -0.32030001 -0.10453    -0.10867\n",
      " -0.30054     0.11378    -0.090379    0.22539    -0.14666     0.44994\n",
      " -0.42578    -0.23418     0.14306     0.1969     -0.19453999 -0.017502\n",
      "  0.47260001  0.32651001  0.23603    -0.069814    0.0032784  -0.23207\n",
      "  0.15014     0.065093   -0.085953   -0.0085751   0.16362     0.076611\n",
      "  0.25088    -0.0077496  -0.11973    -0.39392999 -0.014245    0.21185\n",
      " -0.18971001  0.028297   -0.52214003 -0.062039    0.042806   -0.021191\n",
      " -0.045239   -0.096071    0.17209999  0.13034999 -0.040851   -0.0067884\n",
      " -0.11175    -0.32821    -0.32721999  0.17728999  0.22777     0.30693001\n",
      " -0.085137   -0.21236999  0.12763    -0.60553002 -0.15944     0.073359\n",
      " -0.014054   -0.26036     0.10725    -0.1219      0.11858    -0.18189999\n",
      " -0.01366    -0.053248   -0.37810001  0.15245999 -0.11002    -0.23746\n",
      " -0.27961001 -0.011055   -0.09035     0.17859     0.23214    -0.27436\n",
      "  0.017097    0.080869    0.44049999 -0.041921   -0.074811    0.30085999\n",
      "  0.29335999  0.32984     0.21535     0.34498999  0.73886001  0.24093001\n",
      "  0.53792     0.033951    0.015462   -0.007924   -0.081854    0.070118\n",
      "  0.11429     0.33699     0.050843    0.30518001  0.039263   -0.027345\n",
      "  0.23195     0.087324   -0.15381999 -0.22446001 -0.053445    0.045633\n",
      "  0.38054001  0.11564    -0.17839     0.10726    -0.30320001 -0.19384\n",
      "  0.32383001  0.10569    -0.2516     -0.53574997  0.34551999  0.038396  ]\n"
     ]
    }
   ],
   "source": [
    "print(word_index['should'])\n",
    "print(embedding_matrix[word_index['should']])"
   ]
  },
  {
   "cell_type": "markdown",
   "metadata": {},
   "source": [
    "批量查询可以使用矩阵的点乘操作"
   ]
  },
  {
   "cell_type": "code",
   "execution_count": 16,
   "metadata": {},
   "outputs": [
    {
     "data": {
      "text/plain": [
       "(17621, 300)"
      ]
     },
     "execution_count": 16,
     "metadata": {},
     "output_type": "execute_result"
    }
   ],
   "source": [
    "x_train_embeddings = np.dot(xtrain_enc, embedding_matrix)\n",
    "x_valid_embeddings = np.dot(xvalid_enc, embedding_matrix)\n",
    "x_train_embeddings.shape"
   ]
  },
  {
   "cell_type": "code",
   "execution_count": 17,
   "metadata": {},
   "outputs": [
    {
     "data": {
      "text/plain": [
       "False"
      ]
     },
     "execution_count": 17,
     "metadata": {},
     "output_type": "execute_result"
    }
   ],
   "source": [
    "x = np.zeros_like(x_train_embeddings[0])\n",
    "for idx, count in enumerate(xtrain_enc[0]):\n",
    "    if count == 0: continue\n",
    "    word = token.index_word[idx]\n",
    "    if word not in embeddings_index: continue\n",
    "    x += embeddings_index[word]\n",
    "np.all(x == x_train_embeddings[0])"
   ]
  },
  {
   "cell_type": "markdown",
   "metadata": {},
   "source": [
    "## 网络搭建\n",
    "\n",
    "搭建一个新的神经网络，加入`LayerNormalization`层，以便对输入向量做适当调整"
   ]
  },
  {
   "cell_type": "code",
   "execution_count": 18,
   "metadata": {},
   "outputs": [],
   "source": [
    "# create a simple 3 layer sequential neural net\n",
    "model = Sequential()\n",
    "\n",
    "model.add(LayerNormalization(input_shape=(300,)))\n",
    "\n",
    "model.add(Dense(300, activation='relu'))\n",
    "model.add(Dropout(0.2))\n",
    "model.add(BatchNormalization())\n",
    "\n",
    "model.add(Dense(300, activation='relu'))\n",
    "model.add(Dropout(0.3))\n",
    "model.add(BatchNormalization())\n",
    "\n",
    "model.add(Dense(3))\n",
    "model.add(Activation('softmax'))\n",
    "\n",
    "# compile the model\n",
    "model.compile(loss='categorical_crossentropy', optimizer='adam', metrics=['categorical_accuracy', ])"
   ]
  },
  {
   "cell_type": "code",
   "execution_count": 19,
   "metadata": {},
   "outputs": [
    {
     "name": "stdout",
     "output_type": "stream",
     "text": [
      "Train on 17621 samples, validate on 1958 samples\n",
      "Epoch 1/100\n",
      "17621/17621 [==============================] - 2s 118us/sample - loss: 1.0275 - categorical_accuracy: 0.5746 - val_loss: 0.8658 - val_categorical_accuracy: 0.6032\n",
      "Epoch 2/100\n",
      "17621/17621 [==============================] - 0s 10us/sample - loss: 0.7981 - categorical_accuracy: 0.6644 - val_loss: 0.8177 - val_categorical_accuracy: 0.6614\n",
      "Epoch 3/100\n",
      "17621/17621 [==============================] - 0s 9us/sample - loss: 0.7177 - categorical_accuracy: 0.7008 - val_loss: 0.7705 - val_categorical_accuracy: 0.7109\n",
      "Epoch 4/100\n",
      "17621/17621 [==============================] - 0s 9us/sample - loss: 0.6637 - categorical_accuracy: 0.7230 - val_loss: 0.7351 - val_categorical_accuracy: 0.7022\n",
      "Epoch 5/100\n",
      "17621/17621 [==============================] - 0s 9us/sample - loss: 0.6267 - categorical_accuracy: 0.7389 - val_loss: 0.7120 - val_categorical_accuracy: 0.7242\n",
      "Epoch 6/100\n",
      "17621/17621 [==============================] - 0s 10us/sample - loss: 0.5958 - categorical_accuracy: 0.7542 - val_loss: 0.6732 - val_categorical_accuracy: 0.7349\n",
      "Epoch 7/100\n",
      "17621/17621 [==============================] - 0s 9us/sample - loss: 0.5685 - categorical_accuracy: 0.7662 - val_loss: 0.6551 - val_categorical_accuracy: 0.7436\n",
      "Epoch 8/100\n",
      "17621/17621 [==============================] - 0s 9us/sample - loss: 0.5443 - categorical_accuracy: 0.7744 - val_loss: 0.6435 - val_categorical_accuracy: 0.7421\n",
      "Epoch 9/100\n",
      "17621/17621 [==============================] - 0s 9us/sample - loss: 0.5230 - categorical_accuracy: 0.7872 - val_loss: 0.6445 - val_categorical_accuracy: 0.7431\n",
      "Epoch 10/100\n",
      "17621/17621 [==============================] - 0s 9us/sample - loss: 0.4979 - categorical_accuracy: 0.7990 - val_loss: 0.6282 - val_categorical_accuracy: 0.7457\n",
      "Epoch 11/100\n",
      "17621/17621 [==============================] - 0s 9us/sample - loss: 0.4838 - categorical_accuracy: 0.8048 - val_loss: 0.6331 - val_categorical_accuracy: 0.7406\n",
      "Epoch 12/100\n",
      "17621/17621 [==============================] - 0s 8us/sample - loss: 0.4626 - categorical_accuracy: 0.8135 - val_loss: 0.6507 - val_categorical_accuracy: 0.7416\n",
      "Epoch 13/100\n",
      "17621/17621 [==============================] - 0s 10us/sample - loss: 0.4385 - categorical_accuracy: 0.8252 - val_loss: 0.6456 - val_categorical_accuracy: 0.7426\n",
      "Epoch 14/100\n",
      "17621/17621 [==============================] - 0s 9us/sample - loss: 0.4223 - categorical_accuracy: 0.8316 - val_loss: 0.6550 - val_categorical_accuracy: 0.7538\n",
      "Epoch 15/100\n",
      "17621/17621 [==============================] - 0s 9us/sample - loss: 0.4116 - categorical_accuracy: 0.8366 - val_loss: 0.6566 - val_categorical_accuracy: 0.7477\n"
     ]
    },
    {
     "data": {
      "text/plain": [
       "<tensorflow.python.keras.callbacks.History at 0x26deab28a48>"
      ]
     },
     "execution_count": 19,
     "metadata": {},
     "output_type": "execute_result"
    }
   ],
   "source": [
    "earlystop = EarlyStopping(monitor='val_loss', min_delta=0, patience=5, verbose=0, mode='auto')\n",
    "model.fit(\n",
    "    x_train_embeddings, y=ytrain_enc, batch_size=512, epochs=100, \n",
    "    verbose=1, validation_data=(x_valid_embeddings, yvalid_enc), callbacks=[earlystop]\n",
    ")"
   ]
  },
  {
   "cell_type": "code",
   "execution_count": 20,
   "metadata": {
    "scrolled": false
   },
   "outputs": [
    {
     "data": {
      "image/png": "[encoded data removed]",
      "text/plain": [
       "<Figure size 1008x504 with 2 Axes>"
      ]
     },
     "metadata": {},
     "output_type": "display_data"
    },
    {
     "name": "stdout",
     "output_type": "stream",
     "text": [
      "Model: \"sequential_1\"\n",
      "_________________________________________________________________\n",
      "Layer (type)                 Output Shape              Param #   \n",
      "=================================================================\n",
      "layer_normalization (LayerNo (None, 300)               600       \n",
      "_________________________________________________________________\n",
      "dense_3 (Dense)              (None, 300)               90300     \n",
      "_________________________________________________________________\n",
      "dropout_2 (Dropout)          (None, 300)               0         \n",
      "_________________________________________________________________\n",
      "batch_normalization_2 (Batch (None, 300)               1200      \n",
      "_________________________________________________________________\n",
      "dense_4 (Dense)              (None, 300)               90300     \n",
      "_________________________________________________________________\n",
      "dropout_3 (Dropout)          (None, 300)               0         \n",
      "_________________________________________________________________\n",
      "batch_normalization_3 (Batch (None, 300)               1200      \n",
      "_________________________________________________________________\n",
      "dense_5 (Dense)              (None, 3)                 903       \n",
      "_________________________________________________________________\n",
      "activation_1 (Activation)    (None, 3)                 0         \n",
      "=================================================================\n",
      "Total params: 184,503\n",
      "Trainable params: 183,303\n",
      "Non-trainable params: 1,200\n",
      "_________________________________________________________________\n"
     ]
    }
   ],
   "source": [
    "plot_keras_history(model.history)\n",
    "model.summary()"
   ]
  },
  {
   "cell_type": "markdown",
   "metadata": {},
   "source": [
    "## 模型评估"
   ]
  },
  {
   "cell_type": "code",
   "execution_count": 21,
   "metadata": {
    "scrolled": false
   },
   "outputs": [
    {
     "name": "stdout",
     "output_type": "stream",
     "text": [
      "train set: logloss: 0.337\n",
      "valid set: logloss: 0.657\n",
      "train set\n",
      "              precision    recall  f1-score   support\n",
      "\n",
      "         EAP      0.902     0.865     0.883      7110\n",
      "         HPL      0.891     0.880     0.885      5071\n",
      "         MWS      0.847     0.903     0.874      5440\n",
      "\n",
      "    accuracy                          0.881     17621\n",
      "   macro avg      0.880     0.882     0.881     17621\n",
      "weighted avg      0.882     0.881     0.881     17621\n",
      "\n",
      "----------------------------------------------------------------------\n",
      "validate set\n",
      "              precision    recall  f1-score   support\n",
      "\n",
      "         EAP      0.777     0.753     0.765       790\n",
      "         HPL      0.745     0.725     0.735       564\n",
      "         MWS      0.715     0.762     0.738       604\n",
      "\n",
      "    accuracy                          0.748      1958\n",
      "   macro avg      0.746     0.747     0.746      1958\n",
      "weighted avg      0.749     0.748     0.748      1958\n",
      "\n"
     ]
    },
    {
     "data": {
      "image/png": "[encoded data removed]",
      "text/plain": [
       "<Figure size 432x288 with 2 Axes>"
      ]
     },
     "metadata": {},
     "output_type": "display_data"
    }
   ],
   "source": [
    "evaluate_model(model, 'FC Network+GloVec', x_train_embeddings, ytrain, x_valid_embeddings, yvalid, fit=None)"
   ]
  },
  {
   "cell_type": "markdown",
   "metadata": {},
   "source": [
    "## 模型比较\n",
    "\n",
    "使用GloVec后，模型准确率、复杂度和过拟合程度均有下降。实际使用的时候要做好权衡。"
   ]
  },
  {
   "cell_type": "code",
   "execution_count": 22,
   "metadata": {},
   "outputs": [
    {
     "data": {
      "text/html": [
       "<div>\n",
       "<style scoped>\n",
       "    .dataframe tbody tr th:only-of-type {\n",
       "        vertical-align: middle;\n",
       "    }\n",
       "\n",
       "    .dataframe tbody tr th {\n",
       "        vertical-align: top;\n",
       "    }\n",
       "\n",
       "    .dataframe thead tr th {\n",
       "        text-align: left;\n",
       "    }\n",
       "</style>\n",
       "<table border=\"1\" class=\"dataframe\">\n",
       "  <thead>\n",
       "    <tr>\n",
       "      <th></th>\n",
       "      <th colspan=\"2\" halign=\"left\">train</th>\n",
       "      <th colspan=\"2\" halign=\"left\">validate</th>\n",
       "    </tr>\n",
       "    <tr>\n",
       "      <th></th>\n",
       "      <th>logloss</th>\n",
       "      <th>accuracy</th>\n",
       "      <th>logloss</th>\n",
       "      <th>accuracy</th>\n",
       "    </tr>\n",
       "  </thead>\n",
       "  <tbody>\n",
       "    <tr>\n",
       "      <th>FC Network+BoW</th>\n",
       "      <td>0.000743</td>\n",
       "      <td>1.000000</td>\n",
       "      <td>0.567760</td>\n",
       "      <td>0.826824</td>\n",
       "    </tr>\n",
       "    <tr>\n",
       "      <th>FC Network+GloVec</th>\n",
       "      <td>0.337216</td>\n",
       "      <td>0.882416</td>\n",
       "      <td>0.656595</td>\n",
       "      <td>0.746644</td>\n",
       "    </tr>\n",
       "  </tbody>\n",
       "</table>\n",
       "</div>"
      ],
      "text/plain": [
       "                      train            validate          \n",
       "                    logloss  accuracy   logloss  accuracy\n",
       "FC Network+BoW     0.000743  1.000000  0.567760  0.826824\n",
       "FC Network+GloVec  0.337216  0.882416  0.656595  0.746644"
      ]
     },
     "execution_count": 22,
     "metadata": {},
     "output_type": "execute_result"
    }
   ],
   "source": [
    "history"
   ]
  },
  {
   "cell_type": "code",
   "execution_count": null,
   "metadata": {},
   "outputs": [],
   "source": []
  }
 ],
 "metadata": {
  "kernelspec": {
   "display_name": "Python 3",
   "language": "python",
   "name": "python3"
  },
  "language_info": {
   "codemirror_mode": {
    "name": "ipython",
    "version": 3
   },
   "file_extension": ".py",
   "mimetype": "text/x-python",
   "name": "python",
   "nbconvert_exporter": "python",
   "pygments_lexer": "ipython3",
   "version": "3.7.5"
  }
 },
 "nbformat": 4,
 "nbformat_minor": 4
}
