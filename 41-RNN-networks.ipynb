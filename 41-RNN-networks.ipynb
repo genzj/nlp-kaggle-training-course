{
 "cells": [
  {
   "cell_type": "code",
   "execution_count": 1,
   "metadata": {},
   "outputs": [],
   "source": [
    "import pandas as pd\n",
    "import numpy as np\n",
    "import pickle\n",
    "from tqdm.notebook import tqdm\n",
    "from sklearn.metrics import log_loss\n",
    "from matplotlib import pyplot as plt\n",
    "import seaborn as sns\n",
    "sns.set()\n",
    "\n",
    "from sklearn import preprocessing, metrics\n",
    "from sklearn.model_selection import train_test_split\n",
    "from sklearn.metrics import log_loss, accuracy_score, classification_report, plot_confusion_matrix, balanced_accuracy_score\n",
    "\n",
    "import tensorflow as tf\n",
    "from tensorflow.keras.models import Sequential\n",
    "from tensorflow.keras.layers import LSTM, GRU\n",
    "from tensorflow.keras.layers import Dense, Activation, Dropout, SpatialDropout1D\n",
    "from tensorflow.keras.layers import Embedding\n",
    "from tensorflow.keras.layers import BatchNormalization\n",
    "from tensorflow.keras import utils\n",
    "\n",
    "from tensorflow.keras.preprocessing import sequence, text\n",
    "from tensorflow.keras.callbacks import EarlyStopping\n",
    "from tensorflow.keras import regularizers\n",
    "from nltk import word_tokenize\n",
    "from nltk.corpus import stopwords\n",
    "stop_words = stopwords.words('english')"
   ]
  },
  {
   "cell_type": "markdown",
   "metadata": {},
   "source": [
    "## 几个可视化函数\n",
    "\n",
    "对于keras模型，离散分类预测要使用`predict_classes`。\n",
    "\n",
    "`plot_confusion_matrix`不能用于keras模型，需要自己实现。使用`seaborn.heatmap`可以简单实现一个兼容版本。"
   ]
  },
  {
   "cell_type": "code",
   "execution_count": 2,
   "metadata": {},
   "outputs": [],
   "source": [
    "history = pd.DataFrame(\n",
    "    [],\n",
    "    columns=pd.MultiIndex.from_product([['train', 'validate'], ['logloss', 'accuracy']]),\n",
    "    dtype='float32'\n",
    ")\n",
    "\n",
    "def plot_confusion_matrix_keras(model, x, y, display_labels=None, values_format='d', cmap='Blues'):\n",
    "    classes = np.unique(y)\n",
    "    if display_labels is None:\n",
    "        display_labels = list(classes)\n",
    "    d = []\n",
    "    for cls in classes:\n",
    "        predictions = model.predict_classes(x[y==cls])\n",
    "        d.append([np.count_nonzero(predictions==subcls) for subcls in classes])\n",
    "    d = np.asarray(d)\n",
    "    sns.heatmap(\n",
    "        d, cmap=cmap, fmt=values_format,\n",
    "        annot=True, square=True, xticklabels=display_labels, yticklabels=display_labels\n",
    "    )\n",
    "    plt.xlabel('Predicted label')\n",
    "    plt.ylabel('Truth label')\n",
    "\n",
    "def evaluate_model(clf, slug, xtrain, ytrain, xvalid, yvalid, fit=True):\n",
    "    global history\n",
    "    if fit:\n",
    "        clf.fit(xtrain, ytrain)\n",
    "\n",
    "    # print loss values\n",
    "    predictions = clf.predict_proba(xtrain)\n",
    "    print (\"train set: logloss: %0.3f\" % (log_loss(ytrain, predictions), ))\n",
    "    history.loc[slug, ('train', 'logloss')] = log_loss(ytrain, predictions)\n",
    "    predictions = clf.predict_proba(xvalid)\n",
    "    print (\"valid set: logloss: %0.3f\" % (log_loss(yvalid, predictions), ))\n",
    "    history.loc[slug, ('validate', 'logloss')] = log_loss(yvalid, predictions)\n",
    "    \n",
    "    # print accuracy matrix\n",
    "    predictions = clf.predict_classes(xtrain)\n",
    "    print('train set')\n",
    "    print(classification_report(ytrain, predictions, target_names=lbl_enc.classes_, digits=3))\n",
    "    print('-' * 70)\n",
    "    predictions = clf.predict_classes(xvalid)\n",
    "    print('validate set')\n",
    "    print(classification_report(yvalid, predictions, target_names=lbl_enc.classes_, digits=3))\n",
    "\n",
    "    plot_confusion_matrix_keras(clf, xvalid, yvalid, display_labels=lbl_enc.classes_, values_format='d', cmap='Blues')\n",
    "    plt.grid(False)\n",
    "    \n",
    "    history.loc[slug, ('train', 'accuracy')] = balanced_accuracy_score(ytrain, clf.predict_classes(xtrain))\n",
    "    history.loc[slug, ('validate', 'accuracy')] = balanced_accuracy_score(yvalid, clf.predict_classes(xvalid))"
   ]
  },
  {
   "cell_type": "code",
   "execution_count": 3,
   "metadata": {},
   "outputs": [],
   "source": [
    "def plot_keras_history(history):\n",
    "    plt.figure(figsize=(14, 7))\n",
    "    # Plot training & validation accuracy values\n",
    "    plt.subplot(121)\n",
    "    plt.plot(history.history['categorical_accuracy'])\n",
    "    plt.plot(history.history['val_categorical_accuracy'])\n",
    "    plt.title('Model accuracy')\n",
    "    plt.ylabel('Accuracy')\n",
    "    plt.xlabel('Epoch')\n",
    "    plt.legend(['Train', 'Validate'], loc='upper left')\n",
    "\n",
    "    # Plot training & validation loss values\n",
    "    plt.subplot(122)\n",
    "    plt.plot(history.history['loss'])\n",
    "    plt.plot(history.history['val_loss'])\n",
    "    plt.title('Model loss')\n",
    "    plt.ylabel('Loss')\n",
    "    plt.xlabel('Epoch')\n",
    "    plt.legend(['Train', 'Validate'], loc='upper left')\n",
    "\n",
    "    plt.show()\n",
    "    \n"
   ]
  },
  {
   "cell_type": "markdown",
   "metadata": {},
   "source": [
    "## 载入数据及标签化处理"
   ]
  },
  {
   "cell_type": "code",
   "execution_count": 4,
   "metadata": {},
   "outputs": [],
   "source": [
    "train = pd.read_csv('../input/train.csv')\n",
    "test = pd.read_csv('../input/test.csv')\n",
    "sample = pd.read_csv('../input/sample_submission.csv')"
   ]
  },
  {
   "cell_type": "code",
   "execution_count": 5,
   "metadata": {},
   "outputs": [],
   "source": [
    "lbl_enc = preprocessing.LabelEncoder()\n",
    "y = lbl_enc.fit_transform(train.author.values)\n",
    "xtrain, xvalid, ytrain, yvalid = train_test_split(train.text.values, y, \n",
    "                                                  stratify=y, \n",
    "                                                  random_state=42, \n",
    "                                                  test_size=0.1, shuffle=True)"
   ]
  },
  {
   "cell_type": "code",
   "execution_count": 6,
   "metadata": {},
   "outputs": [],
   "source": [
    "# we need to binarize the labels for the neural net\n",
    "ytrain_enc = utils.to_categorical(ytrain)\n",
    "yvalid_enc = utils.to_categorical(yvalid)"
   ]
  },
  {
   "cell_type": "code",
   "execution_count": 7,
   "metadata": {},
   "outputs": [
    {
     "name": "stdout",
     "output_type": "stream",
     "text": [
      "25943 words tokenized\n"
     ]
    }
   ],
   "source": [
    "# using keras tokenizer here\n",
    "token = text.Tokenizer(num_words=None)\n",
    "\n",
    "token.fit_on_texts(list(xtrain) + list(xvalid))\n",
    "xtrain_seq = token.texts_to_sequences(xtrain)\n",
    "xvalid_seq = token.texts_to_sequences(xvalid)\n",
    "\n",
    "word_index = token.word_index\n",
    "print(f'{len(word_index)} words tokenized')"
   ]
  },
  {
   "cell_type": "code",
   "execution_count": 8,
   "metadata": {
    "scrolled": false
   },
   "outputs": [
    {
     "name": "stdout",
     "output_type": "stream",
     "text": [
      "[861 594 445 377 335 270 256 191 190 186 186 168 164 157 150 149 148 148\n",
      " 147 143]\n",
      "[11097 13146  4671 15949 10402  4513 12550 13054  4673 16912  9212 12816\n",
      " 13057   176 17020 15889 11323  7233  6910  2456]\n"
     ]
    },
    {
     "name": "stderr",
     "output_type": "stream",
     "text": [
      "e:\\venvs\\nlp\\lib\\site-packages\\seaborn\\distributions.py:2557: FutureWarning: `distplot` is a deprecated function and will be removed in a future version. Please adapt your code to use either `displot` (a figure-level function with similar flexibility) or `histplot` (an axes-level function for histograms).\n",
      "  warnings.warn(msg, FutureWarning)\n"
     ]
    },
    {
     "data": {
      "image/png": "[encoded data removed]",
      "text/plain": [
       "<Figure size 432x288 with 1 Axes>"
      ]
     },
     "metadata": {},
     "output_type": "display_data"
    },
    {
     "name": "stderr",
     "output_type": "stream",
     "text": [
      "e:\\venvs\\nlp\\lib\\site-packages\\seaborn\\_decorators.py:43: FutureWarning: Pass the following variable as a keyword arg: x. From version 0.12, the only valid positional argument will be `data`, and passing other arguments without an explicit keyword will result in an error or misinterpretation.\n",
      "  FutureWarning\n"
     ]
    },
    {
     "data": {
      "image/png": "[encoded data removed]",
      "text/plain": [
       "<Figure size 432x288 with 1 Axes>"
      ]
     },
     "metadata": {},
     "output_type": "display_data"
    },
    {
     "data": {
      "text/html": [
       "<div>\n",
       "<style scoped>\n",
       "    .dataframe tbody tr th:only-of-type {\n",
       "        vertical-align: middle;\n",
       "    }\n",
       "\n",
       "    .dataframe tbody tr th {\n",
       "        vertical-align: top;\n",
       "    }\n",
       "\n",
       "    .dataframe thead th {\n",
       "        text-align: right;\n",
       "    }\n",
       "</style>\n",
       "<table border=\"1\" class=\"dataframe\">\n",
       "  <thead>\n",
       "    <tr style=\"text-align: right;\">\n",
       "      <th></th>\n",
       "      <th>sentence length</th>\n",
       "    </tr>\n",
       "  </thead>\n",
       "  <tbody>\n",
       "    <tr>\n",
       "      <th>count</th>\n",
       "      <td>17621.000000</td>\n",
       "    </tr>\n",
       "    <tr>\n",
       "      <th>mean</th>\n",
       "      <td>26.679757</td>\n",
       "    </tr>\n",
       "    <tr>\n",
       "      <th>std</th>\n",
       "      <td>19.247341</td>\n",
       "    </tr>\n",
       "    <tr>\n",
       "      <th>min</th>\n",
       "      <td>2.000000</td>\n",
       "    </tr>\n",
       "    <tr>\n",
       "      <th>25%</th>\n",
       "      <td>15.000000</td>\n",
       "    </tr>\n",
       "    <tr>\n",
       "      <th>50%</th>\n",
       "      <td>23.000000</td>\n",
       "    </tr>\n",
       "    <tr>\n",
       "      <th>75%</th>\n",
       "      <td>34.000000</td>\n",
       "    </tr>\n",
       "    <tr>\n",
       "      <th>max</th>\n",
       "      <td>861.000000</td>\n",
       "    </tr>\n",
       "  </tbody>\n",
       "</table>\n",
       "</div>"
      ],
      "text/plain": [
       "       sentence length\n",
       "count     17621.000000\n",
       "mean         26.679757\n",
       "std          19.247341\n",
       "min           2.000000\n",
       "25%          15.000000\n",
       "50%          23.000000\n",
       "75%          34.000000\n",
       "max         861.000000"
      ]
     },
     "execution_count": 8,
     "metadata": {},
     "output_type": "execute_result"
    }
   ],
   "source": [
    "sentence_len = np.array(list(map(len, xtrain_seq)))\n",
    "print(-np.sort(-sentence_len)[:20])\n",
    "print(np.argsort(-sentence_len)[:20])\n",
    "sns.distplot(sentence_len)\n",
    "plt.show()\n",
    "sns.boxplot(sentence_len)\n",
    "plt.show()\n",
    "pd.DataFrame(sentence_len, columns=['sentence length']).describe()"
   ]
  },
  {
   "cell_type": "code",
   "execution_count": 9,
   "metadata": {},
   "outputs": [],
   "source": [
    "max_len = 70\n",
    "\n",
    "# zero pad the sequences\n",
    "xtrain_pad = sequence.pad_sequences(xtrain_seq, maxlen=max_len)\n",
    "xvalid_pad = sequence.pad_sequences(xvalid_seq, maxlen=max_len)\n"
   ]
  },
  {
   "cell_type": "code",
   "execution_count": 10,
   "metadata": {
    "scrolled": false
   },
   "outputs": [
    {
     "name": "stdout",
     "output_type": "stream",
     "text": [
      "original text:\n",
      "   Her hair was the brightest living gold, and despite the poverty of her clothing, seemed to set a crown of distinction on her head. \n",
      "\n",
      "sequence features:\n",
      "   [29, 560, 8, 1, 5924, 459, 714, 3, 987, 1, 1794, 2, 29, 3695, 98, 4, 326, 5, 2545, 2, 3103, 27, 29, 166] \n",
      "\n",
      "padded seq features:\n",
      "   [   0    0    0    0    0    0    0    0    0    0    0    0    0    0\n",
      "    0    0    0    0    0    0    0    0    0    0    0    0    0    0\n",
      "    0    0    0    0    0    0    0    0    0    0    0    0    0    0\n",
      "    0    0    0    0   29  560    8    1 5924  459  714    3  987    1\n",
      " 1794    2   29 3695   98    4  326    5 2545    2 3103   27   29  166] \n",
      "\n",
      "words:\n",
      "   ['___', '___', '___', '___', '___', '___', '___', '___', '___', '___', '___', '___', '___', '___', '___', '___', '___', '___', '___', '___', '___', '___', '___', '___', '___', '___', '___', '___', '___', '___', '___', '___', '___', '___', '___', '___', '___', '___', '___', '___', '___', '___', '___', '___', '___', '___', 'her', 'hair', 'was', 'the', 'brightest', 'living', 'gold', 'and', 'despite', 'the', 'poverty', 'of', 'her', 'clothing', 'seemed', 'to', 'set', 'a', 'crown', 'of', 'distinction', 'on', 'her', 'head'] \n",
      "\n"
     ]
    }
   ],
   "source": [
    "print('original text:\\n  ', xtrain[0], '\\n')\n",
    "print('sequence features:\\n  ', xtrain_seq[0], '\\n')\n",
    "print('padded seq features:\\n  ', xtrain_pad[0], '\\n')\n",
    "print('words:\\n  ', [token.index_word.get(x, '___') for x in xtrain_pad[0]], '\\n')"
   ]
  },
  {
   "cell_type": "code",
   "execution_count": 11,
   "metadata": {},
   "outputs": [
    {
     "data": {
      "application/vnd.jupyter.widget-view+json": {
       "model_id": "4194988fd764491fa5263bed9de28993",
       "version_major": 2,
       "version_minor": 0
      },
      "text/plain": [
       "  0%|          | 0/25943 [00:00<?, ?it/s]"
      ]
     },
     "metadata": {},
     "output_type": "display_data"
    },
    {
     "name": "stdout",
     "output_type": "stream",
     "text": [
      "shape of train matrix: (17621, 70)\n",
      "shape of embedding matrix: (25944, 300)\n"
     ]
    }
   ],
   "source": [
    "with open('./data/glove.compress.embeddings.pickle', 'rb') as f:\n",
    "    embeddings_index = pickle.load(f)\n",
    "\n",
    "with open('./data/glove.compress.vocabulary.pickle', 'rb') as f:\n",
    "    vocabulary = pickle.load(f)\n",
    "\n",
    "# create an embedding matrix for the words we have in the dataset\n",
    "embedding_width = len(embeddings_index['the'])\n",
    "embedding_matrix = np.zeros((len(word_index) + 1, embedding_width))\n",
    "\n",
    "for word, i in tqdm(word_index.items()):\n",
    "    embedding_vector = embeddings_index.get(word)\n",
    "    if embedding_vector is not None:\n",
    "        embedding_matrix[i] = embedding_vector\n",
    "\n",
    "print('shape of train matrix:', xtrain_pad.shape)\n",
    "print('shape of embedding matrix:', embedding_matrix.shape)"
   ]
  },
  {
   "cell_type": "code",
   "execution_count": 12,
   "metadata": {
    "scrolled": false
   },
   "outputs": [
    {
     "name": "stdout",
     "output_type": "stream",
     "text": [
      "WARNING:tensorflow:Layer gru will not use cuDNN kernel since it doesn't meet the cuDNN kernel criteria. It will use generic GPU kernel as fallback when running on GPU\n",
      "WARNING:tensorflow:Layer gru_1 will not use cuDNN kernel since it doesn't meet the cuDNN kernel criteria. It will use generic GPU kernel as fallback when running on GPU\n",
      "Epoch 1/100\n",
      "35/35 [==============================] - 31s 803ms/step - loss: 1.0981 - categorical_accuracy: 0.3902 - val_loss: 0.9060 - val_categorical_accuracy: 0.5843\n",
      "Epoch 2/100\n",
      "35/35 [==============================] - 27s 774ms/step - loss: 0.9209 - categorical_accuracy: 0.5702 - val_loss: 0.7786 - val_categorical_accuracy: 0.6823\n",
      "Epoch 3/100\n",
      "35/35 [==============================] - 28s 789ms/step - loss: 0.8338 - categorical_accuracy: 0.6367 - val_loss: 0.7416 - val_categorical_accuracy: 0.7079\n",
      "Epoch 4/100\n",
      "35/35 [==============================] - 27s 781ms/step - loss: 0.7944 - categorical_accuracy: 0.6556 - val_loss: 0.7195 - val_categorical_accuracy: 0.7191\n",
      "Epoch 5/100\n",
      "35/35 [==============================] - 28s 801ms/step - loss: 0.7647 - categorical_accuracy: 0.6734 - val_loss: 0.7103 - val_categorical_accuracy: 0.7125\n",
      "Epoch 6/100\n",
      "35/35 [==============================] - 28s 810ms/step - loss: 0.7495 - categorical_accuracy: 0.6772 - val_loss: 0.6668 - val_categorical_accuracy: 0.7242\n",
      "Epoch 7/100\n",
      "35/35 [==============================] - 28s 793ms/step - loss: 0.7201 - categorical_accuracy: 0.6951 - val_loss: 0.6294 - val_categorical_accuracy: 0.7385\n",
      "Epoch 8/100\n",
      "35/35 [==============================] - 28s 783ms/step - loss: 0.6848 - categorical_accuracy: 0.7141 - val_loss: 0.6110 - val_categorical_accuracy: 0.7543\n",
      "Epoch 9/100\n",
      "35/35 [==============================] - 29s 815ms/step - loss: 0.6767 - categorical_accuracy: 0.7176 - val_loss: 0.5938 - val_categorical_accuracy: 0.7630\n",
      "Epoch 10/100\n",
      "35/35 [==============================] - 29s 835ms/step - loss: 0.6314 - categorical_accuracy: 0.7378 - val_loss: 0.5883 - val_categorical_accuracy: 0.7702\n",
      "Epoch 11/100\n",
      "35/35 [==============================] - 27s 778ms/step - loss: 0.6203 - categorical_accuracy: 0.7442 - val_loss: 0.5718 - val_categorical_accuracy: 0.7712\n",
      "Epoch 12/100\n",
      "35/35 [==============================] - 27s 783ms/step - loss: 0.5936 - categorical_accuracy: 0.7581 - val_loss: 0.5856 - val_categorical_accuracy: 0.7676\n",
      "Epoch 13/100\n",
      "35/35 [==============================] - 27s 777ms/step - loss: 0.6039 - categorical_accuracy: 0.7502 - val_loss: 0.5586 - val_categorical_accuracy: 0.7681\n",
      "Epoch 14/100\n",
      "35/35 [==============================] - 28s 794ms/step - loss: 0.5575 - categorical_accuracy: 0.7700 - val_loss: 0.5513 - val_categorical_accuracy: 0.7855\n",
      "Epoch 15/100\n",
      "35/35 [==============================] - 27s 775ms/step - loss: 0.5482 - categorical_accuracy: 0.7770 - val_loss: 0.5255 - val_categorical_accuracy: 0.7937\n",
      "Epoch 16/100\n",
      "35/35 [==============================] - 27s 779ms/step - loss: 0.5193 - categorical_accuracy: 0.7865 - val_loss: 0.5588 - val_categorical_accuracy: 0.7656\n",
      "Epoch 17/100\n",
      "35/35 [==============================] - 27s 772ms/step - loss: 0.5260 - categorical_accuracy: 0.7870 - val_loss: 0.5135 - val_categorical_accuracy: 0.7891\n",
      "Epoch 18/100\n",
      "35/35 [==============================] - 28s 810ms/step - loss: 0.4911 - categorical_accuracy: 0.8029 - val_loss: 0.5082 - val_categorical_accuracy: 0.7967\n",
      "Epoch 19/100\n",
      "35/35 [==============================] - 28s 787ms/step - loss: 0.4817 - categorical_accuracy: 0.8047 - val_loss: 0.5067 - val_categorical_accuracy: 0.7937\n",
      "Epoch 20/100\n",
      "35/35 [==============================] - 28s 797ms/step - loss: 0.4868 - categorical_accuracy: 0.8060 - val_loss: 0.5071 - val_categorical_accuracy: 0.7937\n",
      "Epoch 21/100\n",
      "35/35 [==============================] - 28s 805ms/step - loss: 0.4451 - categorical_accuracy: 0.8213 - val_loss: 0.4906 - val_categorical_accuracy: 0.7998\n",
      "Epoch 22/100\n",
      "35/35 [==============================] - 28s 802ms/step - loss: 0.4419 - categorical_accuracy: 0.8264 - val_loss: 0.4850 - val_categorical_accuracy: 0.8054\n",
      "Epoch 23/100\n",
      "35/35 [==============================] - 28s 786ms/step - loss: 0.4310 - categorical_accuracy: 0.8302 - val_loss: 0.4851 - val_categorical_accuracy: 0.8059\n",
      "Epoch 24/100\n",
      "35/35 [==============================] - 28s 802ms/step - loss: 0.4147 - categorical_accuracy: 0.8342 - val_loss: 0.4800 - val_categorical_accuracy: 0.8095\n",
      "Epoch 25/100\n",
      "35/35 [==============================] - 28s 793ms/step - loss: 0.4174 - categorical_accuracy: 0.8359 - val_loss: 0.5169 - val_categorical_accuracy: 0.8034\n",
      "Epoch 26/100\n",
      "35/35 [==============================] - 28s 787ms/step - loss: 0.3940 - categorical_accuracy: 0.8410 - val_loss: 0.4826 - val_categorical_accuracy: 0.8121\n",
      "Epoch 27/100\n",
      "35/35 [==============================] - 28s 793ms/step - loss: 0.3875 - categorical_accuracy: 0.8424 - val_loss: 0.5059 - val_categorical_accuracy: 0.8064\n",
      "Epoch 28/100\n",
      "35/35 [==============================] - 27s 781ms/step - loss: 0.3723 - categorical_accuracy: 0.8556 - val_loss: 0.4901 - val_categorical_accuracy: 0.8110\n",
      "Epoch 29/100\n",
      "35/35 [==============================] - 27s 772ms/step - loss: 0.3742 - categorical_accuracy: 0.8527 - val_loss: 0.4862 - val_categorical_accuracy: 0.8177\n"
     ]
    },
    {
     "data": {
      "text/plain": [
       "<tensorflow.python.keras.callbacks.History at 0x1eb09f23688>"
      ]
     },
     "execution_count": 12,
     "metadata": {},
     "output_type": "execute_result"
    }
   ],
   "source": [
    "# GRU with glove embeddings and two dense layers\n",
    "model = Sequential()\n",
    "model.add(\n",
    "    Embedding(\n",
    "        embedding_matrix.shape[0],\n",
    "        embedding_matrix.shape[1],\n",
    "        weights=[embedding_matrix],\n",
    "        input_length=max_len,\n",
    "        trainable=False\n",
    "    )\n",
    ")\n",
    "model.add(SpatialDropout1D(0.3))\n",
    "model.add(GRU(300, dropout=0.3, recurrent_dropout=0.3, return_sequences=True))\n",
    "model.add(GRU(300, dropout=0.3, recurrent_dropout=0.3))\n",
    "\n",
    "model.add(Dense(1024, activation='relu'))\n",
    "model.add(Dropout(0.8))\n",
    "\n",
    "model.add(Dense(1024, activation='relu'))\n",
    "model.add(Dropout(0.8))\n",
    "\n",
    "model.add(Dense(3))\n",
    "model.add(Activation('softmax'))\n",
    "model.compile(loss='categorical_crossentropy', optimizer='adam', metrics=['categorical_accuracy', ])\n",
    "\n",
    "# Fit the model with early stopping callback\n",
    "earlystop = EarlyStopping(monitor='val_loss', min_delta=0, patience=5, verbose=0, mode='auto')\n",
    "model.fit(xtrain_pad, y=ytrain_enc, batch_size=512, epochs=100, \n",
    "          verbose=1, validation_data=(xvalid_pad, yvalid_enc), callbacks=[earlystop])"
   ]
  },
  {
   "cell_type": "code",
   "execution_count": 13,
   "metadata": {},
   "outputs": [
    {
     "data": {
      "image/png": "[encoded data removed]",
      "text/plain": [
       "<Figure size 1008x504 with 2 Axes>"
      ]
     },
     "metadata": {},
     "output_type": "display_data"
    },
    {
     "name": "stdout",
     "output_type": "stream",
     "text": [
      "Model: \"sequential\"\n",
      "_________________________________________________________________\n",
      "Layer (type)                 Output Shape              Param #   \n",
      "=================================================================\n",
      "embedding (Embedding)        (None, 70, 300)           7783200   \n",
      "_________________________________________________________________\n",
      "spatial_dropout1d (SpatialDr (None, 70, 300)           0         \n",
      "_________________________________________________________________\n",
      "gru (GRU)                    (None, 70, 300)           541800    \n",
      "_________________________________________________________________\n",
      "gru_1 (GRU)                  (None, 300)               541800    \n",
      "_________________________________________________________________\n",
      "dense (Dense)                (None, 1024)              308224    \n",
      "_________________________________________________________________\n",
      "dropout (Dropout)            (None, 1024)              0         \n",
      "_________________________________________________________________\n",
      "dense_1 (Dense)              (None, 1024)              1049600   \n",
      "_________________________________________________________________\n",
      "dropout_1 (Dropout)          (None, 1024)              0         \n",
      "_________________________________________________________________\n",
      "dense_2 (Dense)              (None, 3)                 3075      \n",
      "_________________________________________________________________\n",
      "activation (Activation)      (None, 3)                 0         \n",
      "=================================================================\n",
      "Total params: 10,227,699\n",
      "Trainable params: 2,444,499\n",
      "Non-trainable params: 7,783,200\n",
      "_________________________________________________________________\n"
     ]
    }
   ],
   "source": [
    "plot_keras_history(model.history)\n",
    "model.summary()"
   ]
  },
  {
   "cell_type": "code",
   "execution_count": 14,
   "metadata": {},
   "outputs": [
    {
     "name": "stderr",
     "output_type": "stream",
     "text": [
      "e:\\venvs\\nlp\\lib\\site-packages\\tensorflow\\python\\keras\\engine\\sequential.py:425: UserWarning: `model.predict_proba()` is deprecated and will be removed after 2021-01-01. Please use `model.predict()` instead.\n",
      "  warnings.warn('`model.predict_proba()` is deprecated and '\n"
     ]
    },
    {
     "name": "stdout",
     "output_type": "stream",
     "text": [
      "train set: logloss: 0.219\n"
     ]
    },
    {
     "name": "stderr",
     "output_type": "stream",
     "text": [
      "e:\\venvs\\nlp\\lib\\site-packages\\tensorflow\\python\\keras\\engine\\sequential.py:425: UserWarning: `model.predict_proba()` is deprecated and will be removed after 2021-01-01. Please use `model.predict()` instead.\n",
      "  warnings.warn('`model.predict_proba()` is deprecated and '\n"
     ]
    },
    {
     "name": "stdout",
     "output_type": "stream",
     "text": [
      "valid set: logloss: 0.486\n"
     ]
    },
    {
     "name": "stderr",
     "output_type": "stream",
     "text": [
      "e:\\venvs\\nlp\\lib\\site-packages\\tensorflow\\python\\keras\\engine\\sequential.py:450: UserWarning: `model.predict_classes()` is deprecated and will be removed after 2021-01-01. Please use instead:* `np.argmax(model.predict(x), axis=-1)`,   if your model does multi-class classification   (e.g. if it uses a `softmax` last-layer activation).* `(model.predict(x) > 0.5).astype(\"int32\")`,   if your model does binary classification   (e.g. if it uses a `sigmoid` last-layer activation).\n",
      "  warnings.warn('`model.predict_classes()` is deprecated and '\n"
     ]
    },
    {
     "name": "stdout",
     "output_type": "stream",
     "text": [
      "train set\n",
      "              precision    recall  f1-score   support\n",
      "\n",
      "         EAP      0.898     0.949     0.923      7110\n",
      "         HPL      0.968     0.902     0.934      5071\n",
      "         MWS      0.938     0.929     0.933      5440\n",
      "\n",
      "    accuracy                          0.929     17621\n",
      "   macro avg      0.935     0.926     0.930     17621\n",
      "weighted avg      0.931     0.929     0.929     17621\n",
      "\n",
      "----------------------------------------------------------------------\n"
     ]
    },
    {
     "name": "stderr",
     "output_type": "stream",
     "text": [
      "e:\\venvs\\nlp\\lib\\site-packages\\tensorflow\\python\\keras\\engine\\sequential.py:450: UserWarning: `model.predict_classes()` is deprecated and will be removed after 2021-01-01. Please use instead:* `np.argmax(model.predict(x), axis=-1)`,   if your model does multi-class classification   (e.g. if it uses a `softmax` last-layer activation).* `(model.predict(x) > 0.5).astype(\"int32\")`,   if your model does binary classification   (e.g. if it uses a `sigmoid` last-layer activation).\n",
      "  warnings.warn('`model.predict_classes()` is deprecated and '\n"
     ]
    },
    {
     "name": "stdout",
     "output_type": "stream",
     "text": [
      "validate set\n",
      "              precision    recall  f1-score   support\n",
      "\n",
      "         EAP      0.802     0.847     0.824       790\n",
      "         HPL      0.857     0.798     0.826       564\n",
      "         MWS      0.805     0.798     0.801       604\n",
      "\n",
      "    accuracy                          0.818      1958\n",
      "   macro avg      0.821     0.814     0.817      1958\n",
      "weighted avg      0.819     0.818     0.818      1958\n",
      "\n"
     ]
    },
    {
     "name": "stderr",
     "output_type": "stream",
     "text": [
      "e:\\venvs\\nlp\\lib\\site-packages\\tensorflow\\python\\keras\\engine\\sequential.py:450: UserWarning: `model.predict_classes()` is deprecated and will be removed after 2021-01-01. Please use instead:* `np.argmax(model.predict(x), axis=-1)`,   if your model does multi-class classification   (e.g. if it uses a `softmax` last-layer activation).* `(model.predict(x) > 0.5).astype(\"int32\")`,   if your model does binary classification   (e.g. if it uses a `sigmoid` last-layer activation).\n",
      "  warnings.warn('`model.predict_classes()` is deprecated and '\n",
      "e:\\venvs\\nlp\\lib\\site-packages\\tensorflow\\python\\keras\\engine\\sequential.py:450: UserWarning: `model.predict_classes()` is deprecated and will be removed after 2021-01-01. Please use instead:* `np.argmax(model.predict(x), axis=-1)`,   if your model does multi-class classification   (e.g. if it uses a `softmax` last-layer activation).* `(model.predict(x) > 0.5).astype(\"int32\")`,   if your model does binary classification   (e.g. if it uses a `sigmoid` last-layer activation).\n",
      "  warnings.warn('`model.predict_classes()` is deprecated and '\n"
     ]
    },
    {
     "data": {
      "image/png": "[encoded data removed]",
      "text/plain": [
       "<Figure size 432x288 with 2 Axes>"
      ]
     },
     "metadata": {},
     "output_type": "display_data"
    }
   ],
   "source": [
    "evaluate_model(model, 'GRU', xtrain_pad, ytrain, xvalid_pad, yvalid, fit=False)"
   ]
  },
  {
   "cell_type": "code",
   "execution_count": 15,
   "metadata": {
    "scrolled": false
   },
   "outputs": [
    {
     "name": "stdout",
     "output_type": "stream",
     "text": [
      "WARNING:tensorflow:Layer gru_2 will not use cuDNN kernel since it doesn't meet the cuDNN kernel criteria. It will use generic GPU kernel as fallback when running on GPU\n",
      "WARNING:tensorflow:Layer gru_3 will not use cuDNN kernel since it doesn't meet the cuDNN kernel criteria. It will use generic GPU kernel as fallback when running on GPU\n",
      "Epoch 1/100\n",
      "35/35 [==============================] - 31s 797ms/step - loss: 2.3864 - categorical_accuracy: 0.4227 - val_loss: 1.7891 - val_categorical_accuracy: 0.5981\n",
      "Epoch 2/100\n",
      "35/35 [==============================] - 27s 775ms/step - loss: 1.6858 - categorical_accuracy: 0.6234 - val_loss: 1.4052 - val_categorical_accuracy: 0.7053\n",
      "Epoch 3/100\n",
      "35/35 [==============================] - 27s 779ms/step - loss: 1.4244 - categorical_accuracy: 0.6706 - val_loss: 1.2676 - val_categorical_accuracy: 0.7033\n",
      "Epoch 4/100\n",
      "35/35 [==============================] - 28s 794ms/step - loss: 1.2523 - categorical_accuracy: 0.7012 - val_loss: 1.1363 - val_categorical_accuracy: 0.7329\n",
      "Epoch 5/100\n",
      "35/35 [==============================] - 27s 780ms/step - loss: 1.1525 - categorical_accuracy: 0.7063 - val_loss: 1.0606 - val_categorical_accuracy: 0.7329\n",
      "Epoch 6/100\n",
      "35/35 [==============================] - 27s 778ms/step - loss: 1.0729 - categorical_accuracy: 0.7257 - val_loss: 1.0038 - val_categorical_accuracy: 0.7354\n",
      "Epoch 7/100\n",
      "35/35 [==============================] - 28s 794ms/step - loss: 1.0092 - categorical_accuracy: 0.7260 - val_loss: 0.9295 - val_categorical_accuracy: 0.7492\n",
      "Epoch 8/100\n",
      "35/35 [==============================] - 27s 780ms/step - loss: 0.9697 - categorical_accuracy: 0.7235 - val_loss: 0.9610 - val_categorical_accuracy: 0.7155\n",
      "Epoch 9/100\n",
      "35/35 [==============================] - 28s 797ms/step - loss: 0.9288 - categorical_accuracy: 0.7291 - val_loss: 0.8653 - val_categorical_accuracy: 0.7543\n",
      "Epoch 10/100\n",
      "35/35 [==============================] - 28s 787ms/step - loss: 0.8708 - categorical_accuracy: 0.7378 - val_loss: 0.8624 - val_categorical_accuracy: 0.7375\n",
      "Epoch 11/100\n",
      "35/35 [==============================] - 27s 785ms/step - loss: 0.8453 - categorical_accuracy: 0.7473 - val_loss: 0.8421 - val_categorical_accuracy: 0.7436\n",
      "Epoch 12/100\n",
      "35/35 [==============================] - 28s 796ms/step - loss: 0.8182 - categorical_accuracy: 0.7533 - val_loss: 0.8030 - val_categorical_accuracy: 0.7569\n",
      "Epoch 13/100\n",
      "35/35 [==============================] - 28s 793ms/step - loss: 0.7900 - categorical_accuracy: 0.7612 - val_loss: 0.7636 - val_categorical_accuracy: 0.7743\n",
      "Epoch 14/100\n",
      "35/35 [==============================] - 27s 779ms/step - loss: 0.7688 - categorical_accuracy: 0.7613 - val_loss: 0.7690 - val_categorical_accuracy: 0.7523\n",
      "Epoch 15/100\n",
      "35/35 [==============================] - 28s 799ms/step - loss: 0.7445 - categorical_accuracy: 0.7738 - val_loss: 0.7882 - val_categorical_accuracy: 0.7554\n",
      "Epoch 16/100\n",
      "35/35 [==============================] - 29s 821ms/step - loss: 0.7388 - categorical_accuracy: 0.7754 - val_loss: 0.7612 - val_categorical_accuracy: 0.7610\n",
      "Epoch 17/100\n",
      "35/35 [==============================] - 30s 840ms/step - loss: 0.7284 - categorical_accuracy: 0.7689 - val_loss: 0.7169 - val_categorical_accuracy: 0.7768\n",
      "Epoch 18/100\n",
      "35/35 [==============================] - 29s 823ms/step - loss: 0.6904 - categorical_accuracy: 0.7859 - val_loss: 0.7149 - val_categorical_accuracy: 0.7712\n",
      "Epoch 19/100\n",
      "35/35 [==============================] - 29s 842ms/step - loss: 0.6879 - categorical_accuracy: 0.7868 - val_loss: 0.7132 - val_categorical_accuracy: 0.7753\n",
      "Epoch 20/100\n",
      "35/35 [==============================] - 28s 791ms/step - loss: 0.6701 - categorical_accuracy: 0.7973 - val_loss: 0.7161 - val_categorical_accuracy: 0.7727\n",
      "Epoch 21/100\n",
      "35/35 [==============================] - 28s 804ms/step - loss: 0.6709 - categorical_accuracy: 0.7922 - val_loss: 0.7070 - val_categorical_accuracy: 0.7865\n",
      "Epoch 22/100\n",
      "35/35 [==============================] - 28s 794ms/step - loss: 0.6669 - categorical_accuracy: 0.7979 - val_loss: 0.6958 - val_categorical_accuracy: 0.7855\n",
      "Epoch 23/100\n",
      "35/35 [==============================] - 28s 814ms/step - loss: 0.6395 - categorical_accuracy: 0.8074 - val_loss: 0.6817 - val_categorical_accuracy: 0.7860\n",
      "Epoch 24/100\n",
      "35/35 [==============================] - 28s 811ms/step - loss: 0.6475 - categorical_accuracy: 0.8022 - val_loss: 0.6660 - val_categorical_accuracy: 0.8013\n",
      "Epoch 25/100\n",
      "35/35 [==============================] - 28s 789ms/step - loss: 0.6257 - categorical_accuracy: 0.8086 - val_loss: 0.6736 - val_categorical_accuracy: 0.7967\n",
      "Epoch 26/100\n",
      "35/35 [==============================] - 28s 796ms/step - loss: 0.6175 - categorical_accuracy: 0.8165 - val_loss: 0.6682 - val_categorical_accuracy: 0.7967\n",
      "Epoch 27/100\n",
      "35/35 [==============================] - 28s 788ms/step - loss: 0.6150 - categorical_accuracy: 0.8161 - val_loss: 0.7382 - val_categorical_accuracy: 0.7753\n",
      "Epoch 28/100\n",
      "35/35 [==============================] - 28s 795ms/step - loss: 0.6366 - categorical_accuracy: 0.8035 - val_loss: 0.6790 - val_categorical_accuracy: 0.7901\n",
      "Epoch 29/100\n",
      "35/35 [==============================] - 28s 789ms/step - loss: 0.6022 - categorical_accuracy: 0.8234 - val_loss: 0.6787 - val_categorical_accuracy: 0.7906\n"
     ]
    },
    {
     "data": {
      "text/plain": [
       "<tensorflow.python.keras.callbacks.History at 0x1eced233908>"
      ]
     },
     "execution_count": 15,
     "metadata": {},
     "output_type": "execute_result"
    }
   ],
   "source": [
    "# GRU with glove embeddings and two dense layers\n",
    "alpha = 0.0005\n",
    "L2 = regularizers.l2\n",
    "\n",
    "model = Sequential()\n",
    "model.add(Embedding(len(word_index) + 1,\n",
    "                     300,\n",
    "                     weights=[embedding_matrix],\n",
    "                     input_length=max_len,\n",
    "                     trainable=False))\n",
    "# model.add(SpatialDropout1D(0.3))\n",
    "model.add(GRU(\n",
    "    300, dropout=0.3,\n",
    "    recurrent_dropout=0.3, return_sequences=True,\n",
    "    kernel_regularizer=L2(alpha), recurrent_regularizer=L2(alpha), bias_regularizer=L2(alpha),))\n",
    "model.add(GRU(\n",
    "    300, dropout=0.3,\n",
    "    recurrent_dropout=0.3, kernel_regularizer=L2(alpha),\n",
    "    recurrent_regularizer=L2(alpha), bias_regularizer=L2(alpha)))\n",
    "\n",
    "model.add(Dense(1024, activation='relu', kernel_regularizer=L2(alpha), bias_regularizer=L2(alpha)))\n",
    "model.add(Dropout(0.8))\n",
    "\n",
    "model.add(Dense(1024, activation='relu', kernel_regularizer=L2(alpha), bias_regularizer=L2(alpha)))\n",
    "model.add(Dropout(0.8))\n",
    "\n",
    "model.add(Dense(3, kernel_regularizer=L2(alpha), bias_regularizer=L2(alpha)))\n",
    "model.add(Activation('softmax'))\n",
    "\n",
    "model.compile(loss='categorical_crossentropy', optimizer='adam', metrics=['categorical_accuracy', ])\n",
    "\n",
    "# Fit the model with early stopping callback\n",
    "earlystop = EarlyStopping(monitor='val_loss', min_delta=0, patience=5, verbose=0, mode='auto')\n",
    "model.fit(xtrain_pad, y=ytrain_enc, batch_size=512, epochs=100, \n",
    "          verbose=1, validation_data=(xvalid_pad, yvalid_enc), callbacks=[earlystop])"
   ]
  },
  {
   "cell_type": "code",
   "execution_count": 16,
   "metadata": {},
   "outputs": [
    {
     "data": {
      "image/png": "[encoded data removed]",
      "text/plain": [
       "<Figure size 1008x504 with 2 Axes>"
      ]
     },
     "metadata": {},
     "output_type": "display_data"
    },
    {
     "name": "stdout",
     "output_type": "stream",
     "text": [
      "Model: \"sequential_1\"\n",
      "_________________________________________________________________\n",
      "Layer (type)                 Output Shape              Param #   \n",
      "=================================================================\n",
      "embedding_1 (Embedding)      (None, 70, 300)           7783200   \n",
      "_________________________________________________________________\n",
      "gru_2 (GRU)                  (None, 70, 300)           541800    \n",
      "_________________________________________________________________\n",
      "gru_3 (GRU)                  (None, 300)               541800    \n",
      "_________________________________________________________________\n",
      "dense_3 (Dense)              (None, 1024)              308224    \n",
      "_________________________________________________________________\n",
      "dropout_2 (Dropout)          (None, 1024)              0         \n",
      "_________________________________________________________________\n",
      "dense_4 (Dense)              (None, 1024)              1049600   \n",
      "_________________________________________________________________\n",
      "dropout_3 (Dropout)          (None, 1024)              0         \n",
      "_________________________________________________________________\n",
      "dense_5 (Dense)              (None, 3)                 3075      \n",
      "_________________________________________________________________\n",
      "activation_1 (Activation)    (None, 3)                 0         \n",
      "=================================================================\n",
      "Total params: 10,227,699\n",
      "Trainable params: 2,444,499\n",
      "Non-trainable params: 7,783,200\n",
      "_________________________________________________________________\n"
     ]
    }
   ],
   "source": [
    "plot_keras_history(model.history)\n",
    "model.summary()"
   ]
  },
  {
   "cell_type": "code",
   "execution_count": 17,
   "metadata": {},
   "outputs": [
    {
     "name": "stderr",
     "output_type": "stream",
     "text": [
      "e:\\venvs\\nlp\\lib\\site-packages\\tensorflow\\python\\keras\\engine\\sequential.py:425: UserWarning: `model.predict_proba()` is deprecated and will be removed after 2021-01-01. Please use `model.predict()` instead.\n",
      "  warnings.warn('`model.predict_proba()` is deprecated and '\n"
     ]
    },
    {
     "name": "stdout",
     "output_type": "stream",
     "text": [
      "train set: logloss: 0.343\n"
     ]
    },
    {
     "name": "stderr",
     "output_type": "stream",
     "text": [
      "e:\\venvs\\nlp\\lib\\site-packages\\tensorflow\\python\\keras\\engine\\sequential.py:425: UserWarning: `model.predict_proba()` is deprecated and will be removed after 2021-01-01. Please use `model.predict()` instead.\n",
      "  warnings.warn('`model.predict_proba()` is deprecated and '\n"
     ]
    },
    {
     "name": "stdout",
     "output_type": "stream",
     "text": [
      "valid set: logloss: 0.522\n"
     ]
    },
    {
     "name": "stderr",
     "output_type": "stream",
     "text": [
      "e:\\venvs\\nlp\\lib\\site-packages\\tensorflow\\python\\keras\\engine\\sequential.py:450: UserWarning: `model.predict_classes()` is deprecated and will be removed after 2021-01-01. Please use instead:* `np.argmax(model.predict(x), axis=-1)`,   if your model does multi-class classification   (e.g. if it uses a `softmax` last-layer activation).* `(model.predict(x) > 0.5).astype(\"int32\")`,   if your model does binary classification   (e.g. if it uses a `sigmoid` last-layer activation).\n",
      "  warnings.warn('`model.predict_classes()` is deprecated and '\n"
     ]
    },
    {
     "name": "stdout",
     "output_type": "stream",
     "text": [
      "train set\n",
      "              precision    recall  f1-score   support\n",
      "\n",
      "         EAP      0.878     0.840     0.858      7110\n",
      "         HPL      0.869     0.886     0.877      5071\n",
      "         MWS      0.854     0.885     0.869      5440\n",
      "\n",
      "    accuracy                          0.867     17621\n",
      "   macro avg      0.867     0.871     0.868     17621\n",
      "weighted avg      0.868     0.867     0.867     17621\n",
      "\n",
      "----------------------------------------------------------------------\n"
     ]
    },
    {
     "name": "stderr",
     "output_type": "stream",
     "text": [
      "e:\\venvs\\nlp\\lib\\site-packages\\tensorflow\\python\\keras\\engine\\sequential.py:450: UserWarning: `model.predict_classes()` is deprecated and will be removed after 2021-01-01. Please use instead:* `np.argmax(model.predict(x), axis=-1)`,   if your model does multi-class classification   (e.g. if it uses a `softmax` last-layer activation).* `(model.predict(x) > 0.5).astype(\"int32\")`,   if your model does binary classification   (e.g. if it uses a `sigmoid` last-layer activation).\n",
      "  warnings.warn('`model.predict_classes()` is deprecated and '\n"
     ]
    },
    {
     "name": "stdout",
     "output_type": "stream",
     "text": [
      "validate set\n",
      "              precision    recall  f1-score   support\n",
      "\n",
      "         EAP      0.814     0.766     0.789       790\n",
      "         HPL      0.783     0.814     0.798       564\n",
      "         MWS      0.769     0.801     0.785       604\n",
      "\n",
      "    accuracy                          0.791      1958\n",
      "   macro avg      0.789     0.794     0.791      1958\n",
      "weighted avg      0.792     0.791     0.791      1958\n",
      "\n"
     ]
    },
    {
     "name": "stderr",
     "output_type": "stream",
     "text": [
      "e:\\venvs\\nlp\\lib\\site-packages\\tensorflow\\python\\keras\\engine\\sequential.py:450: UserWarning: `model.predict_classes()` is deprecated and will be removed after 2021-01-01. Please use instead:* `np.argmax(model.predict(x), axis=-1)`,   if your model does multi-class classification   (e.g. if it uses a `softmax` last-layer activation).* `(model.predict(x) > 0.5).astype(\"int32\")`,   if your model does binary classification   (e.g. if it uses a `sigmoid` last-layer activation).\n",
      "  warnings.warn('`model.predict_classes()` is deprecated and '\n",
      "e:\\venvs\\nlp\\lib\\site-packages\\tensorflow\\python\\keras\\engine\\sequential.py:450: UserWarning: `model.predict_classes()` is deprecated and will be removed after 2021-01-01. Please use instead:* `np.argmax(model.predict(x), axis=-1)`,   if your model does multi-class classification   (e.g. if it uses a `softmax` last-layer activation).* `(model.predict(x) > 0.5).astype(\"int32\")`,   if your model does binary classification   (e.g. if it uses a `sigmoid` last-layer activation).\n",
      "  warnings.warn('`model.predict_classes()` is deprecated and '\n"
     ]
    },
    {
     "data": {
      "image/png": "[encoded data removed]",
      "text/plain": [
       "<Figure size 432x288 with 2 Axes>"
      ]
     },
     "metadata": {},
     "output_type": "display_data"
    }
   ],
   "source": [
    "evaluate_model(model, 'GRU + L2(alpha=%d)' % (alpha, ), xtrain_pad, ytrain, xvalid_pad, yvalid, fit=False)"
   ]
  },
  {
   "cell_type": "code",
   "execution_count": 18,
   "metadata": {},
   "outputs": [
    {
     "data": {
      "text/html": [
       "<div>\n",
       "<style scoped>\n",
       "    .dataframe tbody tr th:only-of-type {\n",
       "        vertical-align: middle;\n",
       "    }\n",
       "\n",
       "    .dataframe tbody tr th {\n",
       "        vertical-align: top;\n",
       "    }\n",
       "\n",
       "    .dataframe thead tr th {\n",
       "        text-align: left;\n",
       "    }\n",
       "</style>\n",
       "<table border=\"1\" class=\"dataframe\">\n",
       "  <thead>\n",
       "    <tr>\n",
       "      <th></th>\n",
       "      <th colspan=\"2\" halign=\"left\">train</th>\n",
       "      <th colspan=\"2\" halign=\"left\">validate</th>\n",
       "    </tr>\n",
       "    <tr>\n",
       "      <th></th>\n",
       "      <th>logloss</th>\n",
       "      <th>accuracy</th>\n",
       "      <th>logloss</th>\n",
       "      <th>accuracy</th>\n",
       "    </tr>\n",
       "  </thead>\n",
       "  <tbody>\n",
       "    <tr>\n",
       "      <th>GRU</th>\n",
       "      <td>0.21944</td>\n",
       "      <td>0.926472</td>\n",
       "      <td>0.486165</td>\n",
       "      <td>0.814240</td>\n",
       "    </tr>\n",
       "    <tr>\n",
       "      <th>GRU + L2(alpha=0)</th>\n",
       "      <td>0.34258</td>\n",
       "      <td>0.870593</td>\n",
       "      <td>0.522187</td>\n",
       "      <td>0.793659</td>\n",
       "    </tr>\n",
       "  </tbody>\n",
       "</table>\n",
       "</div>"
      ],
      "text/plain": [
       "                     train            validate          \n",
       "                   logloss  accuracy   logloss  accuracy\n",
       "GRU                0.21944  0.926472  0.486165  0.814240\n",
       "GRU + L2(alpha=0)  0.34258  0.870593  0.522187  0.793659"
      ]
     },
     "execution_count": 18,
     "metadata": {},
     "output_type": "execute_result"
    }
   ],
   "source": [
    "history"
   ]
  },
  {
   "cell_type": "code",
   "execution_count": 20,
   "metadata": {},
   "outputs": [
    {
     "data": {
      "text/html": [
       "<div>\n",
       "<style scoped>\n",
       "    .dataframe tbody tr th:only-of-type {\n",
       "        vertical-align: middle;\n",
       "    }\n",
       "\n",
       "    .dataframe tbody tr th {\n",
       "        vertical-align: top;\n",
       "    }\n",
       "\n",
       "    .dataframe thead th {\n",
       "        text-align: right;\n",
       "    }\n",
       "</style>\n",
       "<table border=\"1\" class=\"dataframe\">\n",
       "  <thead>\n",
       "    <tr style=\"text-align: right;\">\n",
       "      <th></th>\n",
       "      <th>logloss</th>\n",
       "      <th>accuracy</th>\n",
       "    </tr>\n",
       "  </thead>\n",
       "  <tbody>\n",
       "    <tr>\n",
       "      <th>GRU</th>\n",
       "      <td>0.266725</td>\n",
       "      <td>-0.112232</td>\n",
       "    </tr>\n",
       "    <tr>\n",
       "      <th>GRU + L2(alpha=0)</th>\n",
       "      <td>0.179607</td>\n",
       "      <td>-0.076934</td>\n",
       "    </tr>\n",
       "  </tbody>\n",
       "</table>\n",
       "</div>"
      ],
      "text/plain": [
       "                    logloss  accuracy\n",
       "GRU                0.266725 -0.112232\n",
       "GRU + L2(alpha=0)  0.179607 -0.076934"
      ]
     },
     "execution_count": 20,
     "metadata": {},
     "output_type": "execute_result"
    }
   ],
   "source": [
    "history['validate'] - history['train']"
   ]
  }
 ],
 "metadata": {
  "kernelspec": {
   "display_name": "Python 3",
   "language": "python",
   "name": "python3"
  },
  "language_info": {
   "codemirror_mode": {
    "name": "ipython",
    "version": 3
   },
   "file_extension": ".py",
   "mimetype": "text/x-python",
   "name": "python",
   "nbconvert_exporter": "python",
   "pygments_lexer": "ipython3",
   "version": "3.7.5"
  }
 },
 "nbformat": 4,
 "nbformat_minor": 4
}
