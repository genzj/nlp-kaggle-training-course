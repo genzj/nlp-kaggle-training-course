{
 "cells": [
  {
   "cell_type": "code",
   "execution_count": 1,
   "metadata": {},
   "outputs": [],
   "source": [
    "import pandas as pd\n",
    "import numpy as np\n",
    "\n",
    "from sklearn.metrics import log_loss, accuracy_score, classification_report, plot_confusion_matrix, balanced_accuracy_score\n",
    "from sklearn import preprocessing\n",
    "from sklearn.model_selection import train_test_split\n",
    "from sklearn.feature_extraction.text import CountVectorizer\n",
    "from sklearn.linear_model import LogisticRegression, LogisticRegressionCV\n",
    "\n",
    "import matplotlib.pyplot as plt\n",
    "import seaborn as sns\n",
    "%matplotlib inline\n",
    "sns.set()"
   ]
  },
  {
   "cell_type": "code",
   "execution_count": 2,
   "metadata": {},
   "outputs": [],
   "source": [
    "train = pd.read_csv('../input/train.csv')\n",
    "test = pd.read_csv('../input/test.csv')\n",
    "sample = pd.read_csv('../input/sample_submission.csv')"
   ]
  },
  {
   "cell_type": "code",
   "execution_count": 3,
   "metadata": {},
   "outputs": [],
   "source": [
    "lbl_enc = preprocessing.LabelEncoder()\n",
    "y = lbl_enc.fit_transform(train.author.values)"
   ]
  },
  {
   "cell_type": "code",
   "execution_count": 4,
   "metadata": {},
   "outputs": [],
   "source": [
    "history = pd.DataFrame(\n",
    "    [],\n",
    "    columns=pd.MultiIndex.from_product([['train', 'validate'], ['logloss', 'accuracy']]),\n",
    "    dtype='float32'\n",
    ")\n",
    "\n",
    "def evaluate_model(clf, slug, xtrain, ytrain, xvalid, yvalid, fit=True):\n",
    "    global history\n",
    "    if fit:\n",
    "        clf.fit(xtrain, ytrain)\n",
    "\n",
    "    # print loss values\n",
    "    predictions = clf.predict_proba(xtrain)\n",
    "    print (\"train set: logloss: %0.3f\" % (log_loss(ytrain, predictions), ))\n",
    "    history.loc[slug, ('train', 'logloss')] = log_loss(ytrain, predictions)\n",
    "    predictions = clf.predict_proba(xvalid)\n",
    "    print (\"valid set: logloss: %0.3f\" % (log_loss(yvalid, predictions), ))\n",
    "    history.loc[slug, ('validate', 'logloss')] = log_loss(yvalid, predictions)\n",
    "    \n",
    "    # print accuracy matrix\n",
    "    predictions = clf.predict(xtrain)\n",
    "    print('train set')\n",
    "    print(classification_report(ytrain, predictions, target_names=lbl_enc.classes_, digits=3))\n",
    "    print('-' * 70)\n",
    "    predictions = clf.predict(xvalid)\n",
    "    print('validate set')\n",
    "    print(classification_report(yvalid, predictions, target_names=lbl_enc.classes_, digits=3))\n",
    "\n",
    "    plot_confusion_matrix(clf, xvalid, yvalid, display_labels=lbl_enc.classes_, values_format='d', cmap='Blues')\n",
    "    plt.grid(False)\n",
    "    \n",
    "    history.loc[slug, ('train', 'accuracy')] = balanced_accuracy_score(ytrain, clf.predict(xtrain))\n",
    "    history.loc[slug, ('validate', 'accuracy')] = balanced_accuracy_score(yvalid, clf.predict(xvalid))\n"
   ]
  },
  {
   "cell_type": "markdown",
   "metadata": {},
   "source": [
    "## 训练样本拆分"
   ]
  },
  {
   "cell_type": "code",
   "execution_count": 5,
   "metadata": {},
   "outputs": [
    {
     "name": "stdout",
     "output_type": "stream",
     "text": [
      "origin: [0.40349354 0.28780837 0.30869809]\n",
      "train: [0.40349583 0.28778162 0.30872255]\n",
      "valid: [0.40347293 0.28804903 0.30847804]\n"
     ]
    }
   ],
   "source": [
    "xtrain, xvalid, ytrain, yvalid = train_test_split(\n",
    "    train.text.values, y, \n",
    "    stratify=y, \n",
    "    random_state=42, \n",
    "    test_size=0.1, shuffle=True\n",
    ")\n",
    "\n",
    "print('origin:', np.bincount(y)/len(y))\n",
    "print('train:', np.bincount(ytrain)/len(ytrain))\n",
    "print('valid:', np.bincount(yvalid)/len(yvalid))"
   ]
  },
  {
   "cell_type": "markdown",
   "metadata": {},
   "source": [
    "## 默认词袋\n",
    "\n",
    "无停用词、Ngram，保留两个字母以上的单词 ([API](https://scikit-learn.org/stable/modules/generated/sklearn.feature_extraction.text.CountVectorizer.html#sklearn.feature_extraction.text.CountVectorizer))"
   ]
  },
  {
   "cell_type": "code",
   "execution_count": 6,
   "metadata": {},
   "outputs": [],
   "source": [
    "ctv = CountVectorizer()\n",
    "ctv.fit(list(xtrain) + list(xvalid))\n",
    "xtrain_ctv =  ctv.transform(xtrain) \n",
    "xvalid_ctv = ctv.transform(xvalid)"
   ]
  },
  {
   "cell_type": "code",
   "execution_count": 7,
   "metadata": {},
   "outputs": [
    {
     "name": "stdout",
     "output_type": "stream",
     "text": [
      "# of features: 25068\n"
     ]
    }
   ],
   "source": [
    "features = np.array(ctv.get_feature_names())\n",
    "print('# of features:', len(features))"
   ]
  },
  {
   "cell_type": "code",
   "execution_count": 8,
   "metadata": {
    "scrolled": true
   },
   "outputs": [
    {
     "name": "stdout",
     "output_type": "stream",
     "text": [
      "\"No,\" he said, \"oh, no a member of my family my niece, and a most accomplished woman.\"\n",
      "  (0, 152)\t1\n",
      "  (0, 837)\t1\n",
      "  (0, 8307)\t1\n",
      "  (0, 10316)\t1\n",
      "  (0, 13778)\t1\n",
      "  (0, 14298)\t1\n",
      "  (0, 14491)\t2\n",
      "  (0, 14767)\t1\n",
      "  (0, 14817)\t2\n",
      "  (0, 15145)\t1\n",
      "  (0, 15178)\t1\n",
      "  (0, 19088)\t1\n",
      "  (0, 24768)\t1\n",
      "[  152   837  8307 10316 13778 14298 14491 14767 14817 15145 15178 19088\n",
      " 24768]\n",
      "['accomplished' 'and' 'family' 'he' 'member' 'most' 'my' 'niece' 'no' 'of'\n",
      " 'oh' 'said' 'woman']\n"
     ]
    },
    {
     "data": {
      "text/plain": [
       "'my'"
      ]
     },
     "execution_count": 8,
     "metadata": {},
     "output_type": "execute_result"
    }
   ],
   "source": [
    "print(xtrain[1])\n",
    "print(xtrain_ctv[1])\n",
    "print(xtrain_ctv[1].nonzero()[1])\n",
    "print(features[xtrain_ctv[1].nonzero()[1]])\n",
    "features[14491]"
   ]
  },
  {
   "cell_type": "code",
   "execution_count": 9,
   "metadata": {},
   "outputs": [
    {
     "name": "stdout",
     "output_type": "stream",
     "text": [
      "train set: logloss: 0.109\n",
      "valid set: logloss: 0.451\n",
      "train set\n",
      "              precision    recall  f1-score   support\n",
      "\n",
      "         EAP      0.982     0.994     0.988      7110\n",
      "         HPL      0.995     0.988     0.991      5071\n",
      "         MWS      0.993     0.985     0.989      5440\n",
      "\n",
      "    accuracy                          0.989     17621\n",
      "   macro avg      0.990     0.989     0.989     17621\n",
      "weighted avg      0.989     0.989     0.989     17621\n",
      "\n",
      "----------------------------------------------------------------------\n",
      "validate set\n",
      "              precision    recall  f1-score   support\n",
      "\n",
      "         EAP      0.808     0.862     0.834       790\n",
      "         HPL      0.867     0.812     0.839       564\n",
      "         MWS      0.825     0.801     0.813       604\n",
      "\n",
      "    accuracy                          0.829      1958\n",
      "   macro avg      0.833     0.825     0.829      1958\n",
      "weighted avg      0.830     0.829     0.829      1958\n",
      "\n"
     ]
    },
    {
     "data": {
      "image/png": "[encoded data removed]",
      "text/plain": [
       "<Figure size 432x288 with 2 Axes>"
      ]
     },
     "metadata": {},
     "output_type": "display_data"
    }
   ],
   "source": [
    "evaluate_model(\n",
    "    LogisticRegression(C=1.7825594, max_iter=1000),\n",
    "    'Basic BoW',\n",
    "    xtrain_ctv, ytrain,\n",
    "    xvalid_ctv, yvalid,\n",
    ")"
   ]
  },
  {
   "cell_type": "markdown",
   "metadata": {},
   "source": [
    "## Ngram词袋\n",
    "\n",
    "考虑部分词语的顺序"
   ]
  },
  {
   "cell_type": "code",
   "execution_count": 10,
   "metadata": {},
   "outputs": [],
   "source": [
    "ctv = CountVectorizer(ngram_range=(1, 3))\n",
    "ctv.fit(list(xtrain) + list(xvalid))\n",
    "xtrain_ctv =  ctv.transform(xtrain) \n",
    "xvalid_ctv = ctv.transform(xvalid)"
   ]
  },
  {
   "cell_type": "code",
   "execution_count": 11,
   "metadata": {},
   "outputs": [
    {
     "name": "stdout",
     "output_type": "stream",
     "text": [
      "# of features: 642857\n"
     ]
    }
   ],
   "source": [
    "features = np.array(ctv.get_feature_names())\n",
    "print('# of features:', len(features))"
   ]
  },
  {
   "cell_type": "code",
   "execution_count": 12,
   "metadata": {},
   "outputs": [
    {
     "name": "stdout",
     "output_type": "stream",
     "text": [
      "\"No,\" he said, \"oh, no a member of my family my niece, and a most accomplished woman.\"\n",
      "  (0, 2675)\t1\n",
      "  (0, 2711)\t1\n",
      "  (0, 20559)\t1\n",
      "  (0, 30486)\t1\n",
      "  (0, 30488)\t1\n",
      "  (0, 168862)\t1\n",
      "  (0, 168968)\t1\n",
      "  (0, 168969)\t1\n",
      "  (0, 219715)\t1\n",
      "  (0, 222588)\t1\n",
      "  (0, 222620)\t1\n",
      "  (0, 313622)\t1\n",
      "  (0, 313623)\t1\n",
      "  (0, 313626)\t1\n",
      "  (0, 324163)\t1\n",
      "  (0, 324181)\t1\n",
      "  (0, 324182)\t1\n",
      "  (0, 329223)\t2\n",
      "  (0, 330872)\t1\n",
      "  (0, 330880)\t1\n",
      "  (0, 332667)\t1\n",
      "  (0, 332668)\t1\n",
      "  (0, 341079)\t1\n",
      "  (0, 341080)\t1\n",
      "  (0, 341081)\t1\n",
      "  (0, 342089)\t2\n",
      "  (0, 342727)\t1\n",
      "  (0, 342732)\t1\n",
      "  (0, 343122)\t1\n",
      "  (0, 343123)\t1\n",
      "  (0, 354724)\t1\n",
      "  (0, 363641)\t1\n",
      "  (0, 363798)\t1\n",
      "  (0, 374142)\t1\n",
      "  (0, 374246)\t1\n",
      "  (0, 374252)\t1\n",
      "  (0, 437522)\t1\n",
      "  (0, 437925)\t1\n",
      "  (0, 437926)\t1\n",
      "  (0, 631344)\t1\n",
      "['accomplished' 'accomplished woman' 'and' 'and most'\n",
      " 'and most accomplished' 'family' 'family my' 'family my niece' 'he'\n",
      " 'he said' 'he said oh' 'member' 'member of' 'member of my' 'most'\n",
      " 'most accomplished' 'most accomplished woman' 'my' 'my family'\n",
      " 'my family my' 'my niece' 'my niece and' 'niece' 'niece and'\n",
      " 'niece and most' 'no' 'no he' 'no he said' 'no member' 'no member of'\n",
      " 'of' 'of my' 'of my family' 'oh' 'oh no' 'oh no member' 'said' 'said oh'\n",
      " 'said oh no' 'woman']\n"
     ]
    }
   ],
   "source": [
    "print(xtrain[1])\n",
    "print(xtrain_ctv[1])\n",
    "print(features[xtrain_ctv[1].nonzero()[1]])"
   ]
  },
  {
   "cell_type": "code",
   "execution_count": 13,
   "metadata": {},
   "outputs": [
    {
     "name": "stdout",
     "output_type": "stream",
     "text": [
      "train set: logloss: 0.024\n",
      "valid set: logloss: 0.465\n",
      "train set\n",
      "              precision    recall  f1-score   support\n",
      "\n",
      "         EAP      1.000     1.000     1.000      7110\n",
      "         HPL      1.000     1.000     1.000      5071\n",
      "         MWS      1.000     1.000     1.000      5440\n",
      "\n",
      "    accuracy                          1.000     17621\n",
      "   macro avg      1.000     1.000     1.000     17621\n",
      "weighted avg      1.000     1.000     1.000     17621\n",
      "\n",
      "----------------------------------------------------------------------\n",
      "validate set\n",
      "              precision    recall  f1-score   support\n",
      "\n",
      "         EAP      0.795     0.885     0.838       790\n",
      "         HPL      0.853     0.780     0.815       564\n",
      "         MWS      0.844     0.786     0.814       604\n",
      "\n",
      "    accuracy                          0.824      1958\n",
      "   macro avg      0.831     0.817     0.822      1958\n",
      "weighted avg      0.827     0.824     0.824      1958\n",
      "\n"
     ]
    },
    {
     "data": {
      "image/png": "[encoded data removed]",
      "text/plain": [
       "<Figure size 432x288 with 2 Axes>"
      ]
     },
     "metadata": {},
     "output_type": "display_data"
    }
   ],
   "source": [
    "evaluate_model(\n",
    "    LogisticRegression(C=1.7825594, max_iter=1000),\n",
    "    'Ngram',\n",
    "    xtrain_ctv, ytrain,\n",
    "    xvalid_ctv, yvalid,\n",
    ")"
   ]
  },
  {
   "cell_type": "markdown",
   "metadata": {},
   "source": [
    "## 停用词\n",
    "\n",
    "删去英语常见停用词"
   ]
  },
  {
   "cell_type": "code",
   "execution_count": 14,
   "metadata": {},
   "outputs": [],
   "source": [
    "ctv = CountVectorizer(ngram_range=(1, 3), stop_words='english')\n",
    "ctv.fit(list(xtrain) + list(xvalid))\n",
    "xtrain_ctv =  ctv.transform(xtrain) \n",
    "xvalid_ctv = ctv.transform(xvalid)"
   ]
  },
  {
   "cell_type": "code",
   "execution_count": 15,
   "metadata": {},
   "outputs": [
    {
     "name": "stdout",
     "output_type": "stream",
     "text": [
      "# of features: 397066\n"
     ]
    }
   ],
   "source": [
    "features = np.array(ctv.get_feature_names())\n",
    "print('# of features:', len(features))"
   ]
  },
  {
   "cell_type": "code",
   "execution_count": 16,
   "metadata": {
    "scrolled": true
   },
   "outputs": [
    {
     "name": "stdout",
     "output_type": "stream",
     "text": [
      "a about above across after afterwards again against all almost alone along already also although always am among amongst amoungst amount an and another any anyhow anyone anything anyway anywhere are around as at back be became because become becomes becoming been before beforehand behind being below beside besides between beyond bill both bottom but by call can cannot cant co con could couldnt cry de describe detail do done down due during each eg eight either eleven else elsewhere empty enough etc even ever every everyone everything everywhere except few fifteen fifty fill find fire first five for former formerly forty found four from front full further get give go had has hasnt have he hence her here hereafter hereby herein hereupon hers herself him himself his how however hundred i ie if in inc indeed interest into is it its itself keep last latter latterly least less ltd made many may me meanwhile might mill mine more moreover most mostly move much must my myself name namely neither never nevertheless next nine no nobody none noone nor not nothing now nowhere of off often on once one only onto or other others otherwise our ours ourselves out over own part per perhaps please put rather re same see seem seemed seeming seems serious several she should show side since sincere six sixty so some somehow someone something sometime sometimes somewhere still such system take ten than that the their them themselves then thence there thereafter thereby therefore therein thereupon these they thick thin third this those though three through throughout thru thus to together too top toward towards twelve twenty two un under until up upon us very via was we well were what whatever when whence whenever where whereafter whereas whereby wherein whereupon wherever whether which while whither who whoever whole whom whose why will with within without would yet you your yours yourself yourselves\n"
     ]
    }
   ],
   "source": [
    "print(' '.join(sorted(ctv.get_stop_words())))"
   ]
  },
  {
   "cell_type": "code",
   "execution_count": 17,
   "metadata": {},
   "outputs": [
    {
     "name": "stdout",
     "output_type": "stream",
     "text": [
      "['brightest' 'brightest living' 'brightest living gold' 'clothing'\n",
      " 'clothing set' 'clothing set crown' 'crown' 'crown distinction'\n",
      " 'crown distinction head' 'despite' 'despite poverty'\n",
      " 'despite poverty clothing' 'distinction' 'distinction head' 'gold'\n",
      " 'gold despite' 'gold despite poverty' 'hair' 'hair brightest'\n",
      " 'hair brightest living' 'head' 'living' 'living gold'\n",
      " 'living gold despite' 'poverty' 'poverty clothing' 'poverty clothing set'\n",
      " 'set' 'set crown' 'set crown distinction']\n"
     ]
    }
   ],
   "source": [
    "print(features[xtrain_ctv[0].nonzero()[1]])"
   ]
  },
  {
   "cell_type": "code",
   "execution_count": 18,
   "metadata": {},
   "outputs": [
    {
     "name": "stdout",
     "output_type": "stream",
     "text": [
      "train set: logloss: 0.055\n",
      "valid set: logloss: 0.524\n",
      "train set\n",
      "              precision    recall  f1-score   support\n",
      "\n",
      "         EAP      0.994     1.000     0.997      7110\n",
      "         HPL      1.000     0.997     0.998      5071\n",
      "         MWS      1.000     0.996     0.998      5440\n",
      "\n",
      "    accuracy                          0.998     17621\n",
      "   macro avg      0.998     0.997     0.998     17621\n",
      "weighted avg      0.998     0.998     0.998     17621\n",
      "\n",
      "----------------------------------------------------------------------\n",
      "validate set\n",
      "              precision    recall  f1-score   support\n",
      "\n",
      "         EAP      0.736     0.857     0.792       790\n",
      "         HPL      0.855     0.709     0.775       564\n",
      "         MWS      0.793     0.748     0.770       604\n",
      "\n",
      "    accuracy                          0.781      1958\n",
      "   macro avg      0.795     0.772     0.779      1958\n",
      "weighted avg      0.788     0.781     0.780      1958\n",
      "\n"
     ]
    },
    {
     "data": {
      "image/png": "[encoded data removed]",
      "text/plain": [
       "<Figure size 432x288 with 2 Axes>"
      ]
     },
     "metadata": {},
     "output_type": "display_data"
    }
   ],
   "source": [
    "evaluate_model(\n",
    "    LogisticRegression(C=1.7825594, max_iter=1000),\n",
    "    'Stopwords',\n",
    "    xtrain_ctv, ytrain,\n",
    "    xvalid_ctv, yvalid,\n",
    ")"
   ]
  },
  {
   "cell_type": "markdown",
   "metadata": {},
   "source": [
    "另一个Stopwords词库（NLTK） "
   ]
  },
  {
   "cell_type": "code",
   "execution_count": 19,
   "metadata": {},
   "outputs": [],
   "source": [
    "from nltk.corpus import stopwords\n",
    "english_stopwords = set(stopwords.words('english'))"
   ]
  },
  {
   "cell_type": "code",
   "execution_count": 20,
   "metadata": {},
   "outputs": [],
   "source": [
    "ctv = CountVectorizer(ngram_range=(1, 3), stop_words=english_stopwords)\n",
    "ctv.fit(list(xtrain) + list(xvalid))\n",
    "xtrain_ctv =  ctv.transform(xtrain) \n",
    "xvalid_ctv = ctv.transform(xvalid)"
   ]
  },
  {
   "cell_type": "code",
   "execution_count": 21,
   "metadata": {},
   "outputs": [
    {
     "name": "stdout",
     "output_type": "stream",
     "text": [
      "# of features: 447740\n"
     ]
    }
   ],
   "source": [
    "features = np.array(ctv.get_feature_names())\n",
    "print('# of features:', len(features))"
   ]
  },
  {
   "cell_type": "code",
   "execution_count": 22,
   "metadata": {
    "scrolled": true
   },
   "outputs": [
    {
     "name": "stdout",
     "output_type": "stream",
     "text": [
      "a about above after again against ain all am an and any are aren aren't as at be because been before being below between both but by can couldn couldn't d did didn didn't do does doesn doesn't doing don don't down during each few for from further had hadn hadn't has hasn hasn't have haven haven't having he her here hers herself him himself his how i if in into is isn isn't it it's its itself just ll m ma me mightn mightn't more most mustn mustn't my myself needn needn't no nor not now o of off on once only or other our ours ourselves out over own re s same shan shan't she she's should should've shouldn shouldn't so some such t than that that'll the their theirs them themselves then there these they this those through to too under until up ve very was wasn wasn't we were weren weren't what when where which while who whom why will with won won't wouldn wouldn't y you you'd you'll you're you've your yours yourself yourselves\n"
     ]
    }
   ],
   "source": [
    "print(' '.join(sorted(ctv.get_stop_words())))"
   ]
  },
  {
   "cell_type": "code",
   "execution_count": 23,
   "metadata": {},
   "outputs": [
    {
     "name": "stdout",
     "output_type": "stream",
     "text": [
      "['brightest' 'brightest living' 'brightest living gold' 'clothing'\n",
      " 'clothing seemed' 'clothing seemed set' 'crown' 'crown distinction'\n",
      " 'crown distinction head' 'despite' 'despite poverty'\n",
      " 'despite poverty clothing' 'distinction' 'distinction head' 'gold'\n",
      " 'gold despite' 'gold despite poverty' 'hair' 'hair brightest'\n",
      " 'hair brightest living' 'head' 'living' 'living gold'\n",
      " 'living gold despite' 'poverty' 'poverty clothing'\n",
      " 'poverty clothing seemed' 'seemed' 'seemed set' 'seemed set crown' 'set'\n",
      " 'set crown' 'set crown distinction']\n"
     ]
    }
   ],
   "source": [
    "print(features[xtrain_ctv[0].nonzero()[1]])"
   ]
  },
  {
   "cell_type": "code",
   "execution_count": 24,
   "metadata": {},
   "outputs": [
    {
     "name": "stdout",
     "output_type": "stream",
     "text": [
      "train set: logloss: 0.046\n",
      "valid set: logloss: 0.505\n",
      "train set\n",
      "              precision    recall  f1-score   support\n",
      "\n",
      "         EAP      0.997     1.000     0.998      7110\n",
      "         HPL      1.000     0.998     0.999      5071\n",
      "         MWS      1.000     0.998     0.999      5440\n",
      "\n",
      "    accuracy                          0.999     17621\n",
      "   macro avg      0.999     0.998     0.999     17621\n",
      "weighted avg      0.999     0.999     0.999     17621\n",
      "\n",
      "----------------------------------------------------------------------\n",
      "validate set\n",
      "              precision    recall  f1-score   support\n",
      "\n",
      "         EAP      0.765     0.875     0.816       790\n",
      "         HPL      0.856     0.746     0.797       564\n",
      "         MWS      0.812     0.757     0.783       604\n",
      "\n",
      "    accuracy                          0.801      1958\n",
      "   macro avg      0.811     0.793     0.799      1958\n",
      "weighted avg      0.806     0.801     0.801      1958\n",
      "\n"
     ]
    },
    {
     "data": {
      "image/png": "[encoded data removed]",
      "text/plain": [
       "<Figure size 432x288 with 2 Axes>"
      ]
     },
     "metadata": {},
     "output_type": "display_data"
    }
   ],
   "source": [
    "evaluate_model(\n",
    "    LogisticRegression(C=1.7825594, max_iter=1000),\n",
    "    'NLTK Stopwords',\n",
    "    xtrain_ctv, ytrain,\n",
    "    xvalid_ctv, yvalid,\n",
    ")"
   ]
  },
  {
   "cell_type": "markdown",
   "metadata": {},
   "source": [
    "## 离散概率模型"
   ]
  },
  {
   "cell_type": "code",
   "execution_count": 25,
   "metadata": {},
   "outputs": [],
   "source": [
    "ctv = CountVectorizer(binary=True)\n",
    "ctv.fit(list(xtrain) + list(xvalid))\n",
    "xtrain_ctv =  ctv.transform(xtrain) \n",
    "xvalid_ctv = ctv.transform(xvalid)"
   ]
  },
  {
   "cell_type": "code",
   "execution_count": 26,
   "metadata": {},
   "outputs": [
    {
     "name": "stdout",
     "output_type": "stream",
     "text": [
      "# of features: 25068\n"
     ]
    }
   ],
   "source": [
    "features = np.array(ctv.get_feature_names())\n",
    "print('# of features:', len(features))"
   ]
  },
  {
   "cell_type": "code",
   "execution_count": 27,
   "metadata": {
    "scrolled": true
   },
   "outputs": [
    {
     "name": "stdout",
     "output_type": "stream",
     "text": [
      "\"No,\" he said, \"oh, no a member of my family my niece, and a most accomplished woman.\"\n",
      "  (0, 152)\t1\n",
      "  (0, 837)\t1\n",
      "  (0, 8307)\t1\n",
      "  (0, 10316)\t1\n",
      "  (0, 13778)\t1\n",
      "  (0, 14298)\t1\n",
      "  (0, 14491)\t1\n",
      "  (0, 14767)\t1\n",
      "  (0, 14817)\t1\n",
      "  (0, 15145)\t1\n",
      "  (0, 15178)\t1\n",
      "  (0, 19088)\t1\n",
      "  (0, 24768)\t1\n",
      "[  152   837  8307 10316 13778 14298 14491 14767 14817 15145 15178 19088\n",
      " 24768]\n",
      "['accomplished' 'and' 'family' 'he' 'member' 'most' 'my' 'niece' 'no' 'of'\n",
      " 'oh' 'said' 'woman']\n"
     ]
    },
    {
     "data": {
      "text/plain": [
       "'my'"
      ]
     },
     "execution_count": 27,
     "metadata": {},
     "output_type": "execute_result"
    }
   ],
   "source": [
    "print(xtrain[1])\n",
    "print(xtrain_ctv[1])\n",
    "print(xtrain_ctv[1].nonzero()[1])\n",
    "print(features[xtrain_ctv[1].nonzero()[1]])\n",
    "features[14491]"
   ]
  },
  {
   "cell_type": "code",
   "execution_count": 28,
   "metadata": {},
   "outputs": [
    {
     "name": "stdout",
     "output_type": "stream",
     "text": [
      "train set: logloss: 0.110\n",
      "valid set: logloss: 0.449\n",
      "train set\n",
      "              precision    recall  f1-score   support\n",
      "\n",
      "         EAP      0.983     0.993     0.988      7110\n",
      "         HPL      0.995     0.988     0.991      5071\n",
      "         MWS      0.993     0.985     0.989      5440\n",
      "\n",
      "    accuracy                          0.989     17621\n",
      "   macro avg      0.990     0.989     0.989     17621\n",
      "weighted avg      0.989     0.989     0.989     17621\n",
      "\n",
      "----------------------------------------------------------------------\n",
      "validate set\n",
      "              precision    recall  f1-score   support\n",
      "\n",
      "         EAP      0.799     0.862     0.829       790\n",
      "         HPL      0.860     0.809     0.834       564\n",
      "         MWS      0.825     0.786     0.805       604\n",
      "\n",
      "    accuracy                          0.823      1958\n",
      "   macro avg      0.828     0.819     0.823      1958\n",
      "weighted avg      0.825     0.823     0.823      1958\n",
      "\n"
     ]
    },
    {
     "data": {
      "image/png": "[encoded data removed]",
      "text/plain": [
       "<Figure size 432x288 with 2 Axes>"
      ]
     },
     "metadata": {},
     "output_type": "display_data"
    }
   ],
   "source": [
    "evaluate_model(\n",
    "    LogisticRegression(C=1.7825594, max_iter=1000),\n",
    "    'Binary',\n",
    "    xtrain_ctv, ytrain,\n",
    "    xvalid_ctv, yvalid,\n",
    ")"
   ]
  },
  {
   "cell_type": "markdown",
   "metadata": {},
   "source": [
    "## 结果比较"
   ]
  },
  {
   "cell_type": "code",
   "execution_count": 29,
   "metadata": {},
   "outputs": [
    {
     "data": {
      "text/html": [
       "<div>\n",
       "<style scoped>\n",
       "    .dataframe tbody tr th:only-of-type {\n",
       "        vertical-align: middle;\n",
       "    }\n",
       "\n",
       "    .dataframe tbody tr th {\n",
       "        vertical-align: top;\n",
       "    }\n",
       "\n",
       "    .dataframe thead tr th {\n",
       "        text-align: left;\n",
       "    }\n",
       "</style>\n",
       "<table border=\"1\" class=\"dataframe\">\n",
       "  <thead>\n",
       "    <tr>\n",
       "      <th></th>\n",
       "      <th colspan=\"2\" halign=\"left\">train</th>\n",
       "      <th colspan=\"2\" halign=\"left\">validate</th>\n",
       "    </tr>\n",
       "    <tr>\n",
       "      <th></th>\n",
       "      <th>logloss</th>\n",
       "      <th>accuracy</th>\n",
       "      <th>logloss</th>\n",
       "      <th>accuracy</th>\n",
       "    </tr>\n",
       "  </thead>\n",
       "  <tbody>\n",
       "    <tr>\n",
       "      <th>Binary</th>\n",
       "      <td>0.109637</td>\n",
       "      <td>0.988819</td>\n",
       "      <td>0.449018</td>\n",
       "      <td>0.818987</td>\n",
       "    </tr>\n",
       "    <tr>\n",
       "      <th>Basic BoW</th>\n",
       "      <td>0.108562</td>\n",
       "      <td>0.988780</td>\n",
       "      <td>0.450666</td>\n",
       "      <td>0.825136</td>\n",
       "    </tr>\n",
       "    <tr>\n",
       "      <th>Ngram</th>\n",
       "      <td>0.023737</td>\n",
       "      <td>1.000000</td>\n",
       "      <td>0.464923</td>\n",
       "      <td>0.817125</td>\n",
       "    </tr>\n",
       "    <tr>\n",
       "      <th>NLTK Stopwords</th>\n",
       "      <td>0.045928</td>\n",
       "      <td>0.998480</td>\n",
       "      <td>0.505014</td>\n",
       "      <td>0.792587</td>\n",
       "    </tr>\n",
       "    <tr>\n",
       "      <th>Stopwords</th>\n",
       "      <td>0.054995</td>\n",
       "      <td>0.997412</td>\n",
       "      <td>0.524187</td>\n",
       "      <td>0.771509</td>\n",
       "    </tr>\n",
       "  </tbody>\n",
       "</table>\n",
       "</div>"
      ],
      "text/plain": [
       "                   train            validate          \n",
       "                 logloss  accuracy   logloss  accuracy\n",
       "Binary          0.109637  0.988819  0.449018  0.818987\n",
       "Basic BoW       0.108562  0.988780  0.450666  0.825136\n",
       "Ngram           0.023737  1.000000  0.464923  0.817125\n",
       "NLTK Stopwords  0.045928  0.998480  0.505014  0.792587\n",
       "Stopwords       0.054995  0.997412  0.524187  0.771509"
      ]
     },
     "execution_count": 29,
     "metadata": {},
     "output_type": "execute_result"
    }
   ],
   "source": [
    "history.sort_values(by=('validate', 'logloss'))"
   ]
  },
  {
   "cell_type": "code",
   "execution_count": 30,
   "metadata": {},
   "outputs": [
    {
     "data": {
      "text/plain": [
       "<AxesSubplot:>"
      ]
     },
     "execution_count": 30,
     "metadata": {},
     "output_type": "execute_result"
    },
    {
     "data": {
      "image/png": "[encoded data removed]",
      "text/plain": [
       "<Figure size 720x360 with 1 Axes>"
      ]
     },
     "metadata": {},
     "output_type": "display_data"
    }
   ],
   "source": [
    "history.plot(figsize=(10, 5))"
   ]
  },
  {
   "cell_type": "code",
   "execution_count": 31,
   "metadata": {},
   "outputs": [
    {
     "data": {
      "text/plain": [
       "<AxesSubplot:>"
      ]
     },
     "execution_count": 31,
     "metadata": {},
     "output_type": "execute_result"
    },
    {
     "data": {
      "image/png": "[encoded data removed]",
      "text/plain": [
       "<Figure size 720x360 with 1 Axes>"
      ]
     },
     "metadata": {},
     "output_type": "display_data"
    }
   ],
   "source": [
    "history.plot(figsize=(10, 5), legend=False)"
   ]
  }
 ],
 "metadata": {
  "kernelspec": {
   "display_name": "Python 3",
   "language": "python",
   "name": "python3"
  },
  "language_info": {
   "codemirror_mode": {
    "name": "ipython",
    "version": 3
   },
   "file_extension": ".py",
   "mimetype": "text/x-python",
   "name": "python",
   "nbconvert_exporter": "python",
   "pygments_lexer": "ipython3",
   "version": "3.7.5"
  }
 },
 "nbformat": 4,
 "nbformat_minor": 4
}
