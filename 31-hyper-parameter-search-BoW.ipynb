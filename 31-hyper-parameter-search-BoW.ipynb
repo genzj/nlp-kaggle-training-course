{
 "cells": [
  {
   "cell_type": "code",
   "execution_count": 1,
   "metadata": {},
   "outputs": [],
   "source": [
    "import pandas as pd\n",
    "import numpy as np\n",
    "import pickle\n",
    "\n",
    "from sklearn.metrics import log_loss, accuracy_score, classification_report, plot_confusion_matrix, balanced_accuracy_score\n",
    "from sklearn import preprocessing\n",
    "from sklearn.model_selection import train_test_split\n",
    "from sklearn.feature_extraction.text import CountVectorizer\n",
    "from sklearn.svm import SVC, LinearSVC\n",
    "from sklearn.decomposition import TruncatedSVD\n",
    "from sklearn.model_selection import GridSearchCV\n",
    "from sklearn.pipeline import Pipeline\n",
    "\n",
    "import matplotlib.pyplot as plt\n",
    "import seaborn as sns\n",
    "\n",
    "from nltk import word_tokenize\n",
    "\n",
    "%matplotlib inline\n",
    "sns.set()"
   ]
  },
  {
   "cell_type": "code",
   "execution_count": 2,
   "metadata": {},
   "outputs": [],
   "source": [
    "train = pd.read_csv('../input/train.csv')\n",
    "test = pd.read_csv('../input/test.csv')\n",
    "sample = pd.read_csv('../input/sample_submission.csv')"
   ]
  },
  {
   "cell_type": "code",
   "execution_count": 3,
   "metadata": {},
   "outputs": [],
   "source": [
    "lbl_enc = preprocessing.LabelEncoder()\n",
    "y = lbl_enc.fit_transform(train.author.values)"
   ]
  },
  {
   "cell_type": "code",
   "execution_count": 4,
   "metadata": {},
   "outputs": [],
   "source": [
    "history = pd.DataFrame(\n",
    "    [],\n",
    "    columns=pd.MultiIndex.from_product([['train', 'validate'], ['logloss', 'accuracy']]),\n",
    "    dtype='float32'\n",
    ")\n",
    "\n",
    "def evaluate_model(clf, slug, xtrain, ytrain, xvalid, yvalid, fit=True):\n",
    "    global history\n",
    "    if fit:\n",
    "        clf.fit(xtrain, ytrain)\n",
    "\n",
    "    if hasattr(clf, 'decision_function'):\n",
    "        # print loss values\n",
    "        df = clf.decision_function(xtrain)\n",
    "        predictions = np.exp(df) / np.sum(np.exp(df), axis=1, keepdims=True)\n",
    "        print (\"train set: logloss: %0.3f\" % (log_loss(ytrain, predictions), ))\n",
    "        history.loc[slug, ('train', 'logloss')] = log_loss(ytrain, predictions)\n",
    "\n",
    "        df = clf.decision_function(xvalid)\n",
    "        predictions = np.exp(df) / np.sum(np.exp(df), axis=1, keepdims=True)\n",
    "        print (\"valid set: logloss: %0.3f\" % (log_loss(yvalid, predictions), ))\n",
    "        history.loc[slug, ('validate', 'logloss')] = log_loss(yvalid, predictions)\n",
    "    else:\n",
    "        # print loss values\n",
    "        predictions = clf.predict_proba(xtrain)\n",
    "        print (\"train set: logloss: %0.3f\" % (log_loss(ytrain, predictions), ))\n",
    "        history.loc[slug, ('train', 'logloss')] = log_loss(ytrain, predictions)\n",
    "        predictions = clf.predict_proba(xvalid)\n",
    "        print (\"valid set: logloss: %0.3f\" % (log_loss(yvalid, predictions), ))\n",
    "        history.loc[slug, ('validate', 'logloss')] = log_loss(yvalid, predictions)\n",
    "    \n",
    "    # print accuracy matrix\n",
    "    predictions = clf.predict(xtrain)\n",
    "    print('train set')\n",
    "    print(classification_report(ytrain, predictions, target_names=lbl_enc.classes_, digits=3))\n",
    "    print('-' * 70)\n",
    "    predictions = clf.predict(xvalid)\n",
    "    print('validate set')\n",
    "    print(classification_report(yvalid, predictions, target_names=lbl_enc.classes_, digits=3))\n",
    "\n",
    "    plot_confusion_matrix(clf, xvalid, yvalid, display_labels=lbl_enc.classes_, values_format='d', cmap='Blues')\n",
    "    plt.grid(False)\n",
    "    \n",
    "    history.loc[slug, ('train', 'accuracy')] = balanced_accuracy_score(ytrain, clf.predict(xtrain))\n",
    "    history.loc[slug, ('validate', 'accuracy')] = balanced_accuracy_score(yvalid, clf.predict(xvalid))\n",
    "\n",
    "    return clf"
   ]
  },
  {
   "cell_type": "markdown",
   "metadata": {},
   "source": [
    "## 训练样本拆分"
   ]
  },
  {
   "cell_type": "code",
   "execution_count": 5,
   "metadata": {},
   "outputs": [
    {
     "name": "stdout",
     "output_type": "stream",
     "text": [
      "origin: [0.40349354 0.28780837 0.30869809]\n",
      "train: [0.40349583 0.28778162 0.30872255]\n",
      "valid: [0.40347293 0.28804903 0.30847804]\n"
     ]
    },
    {
     "data": {
      "image/png": "[encoded data removed]",
      "text/plain": [
       "<Figure size 432x288 with 1 Axes>"
      ]
     },
     "metadata": {},
     "output_type": "display_data"
    }
   ],
   "source": [
    "xtrain, xvalid, ytrain, yvalid = train_test_split(train.text.values, y, \n",
    "                                                  stratify=y, \n",
    "                                                  random_state=42, \n",
    "                                                  test_size=0.1, shuffle=True)\n",
    "sns.distplot(y, label='origin', kde=False, norm_hist=False)\n",
    "sns.distplot(ytrain, label='train', kde=False, norm_hist=False)\n",
    "sns.distplot(yvalid, label='valid', kde=False, norm_hist=False)\n",
    "plt.legend()\n",
    "print('origin:', np.bincount(y)/len(y))\n",
    "print('train:', np.bincount(ytrain)/len(ytrain))\n",
    "print('valid:', np.bincount(yvalid)/len(yvalid))"
   ]
  },
  {
   "cell_type": "markdown",
   "metadata": {},
   "source": [
    "## 特征提取"
   ]
  },
  {
   "cell_type": "code",
   "execution_count": 8,
   "metadata": {},
   "outputs": [],
   "source": [
    "ctv = CountVectorizer().fit(list(xtrain)+list(xvalid))"
   ]
  },
  {
   "cell_type": "code",
   "execution_count": 10,
   "metadata": {},
   "outputs": [],
   "source": [
    "xtrain_glove_ns = ctv.transform(xtrain)\n",
    "xvalid_glove_ns = ctv.transform(xvalid)"
   ]
  },
  {
   "cell_type": "code",
   "execution_count": 11,
   "metadata": {},
   "outputs": [],
   "source": [
    "svd = TruncatedSVD()\n",
    "scl = preprocessing.StandardScaler()\n",
    "svc = SVC(class_weight='balanced', probability=True)\n",
    "\n",
    "clf = Pipeline([\n",
    "    ('svd', svd),\n",
    "    ('scl', scl),\n",
    "    ('svc', svc),\n",
    "])"
   ]
  },
  {
   "cell_type": "code",
   "execution_count": 12,
   "metadata": {},
   "outputs": [],
   "source": [
    "param_grid = {\n",
    "    'svd__n_components' : [100, 120, 180],\n",
    "    'svc__C': np.power(10, np.linspace(np.log10(1e-2), np.log10(1e2), 4)),\n",
    "    'svc__kernel': ['rbf', 'poly']\n",
    "}"
   ]
  },
  {
   "cell_type": "code",
   "execution_count": 13,
   "metadata": {},
   "outputs": [],
   "source": [
    "model = GridSearchCV(\n",
    "    estimator=clf, param_grid=param_grid,\n",
    "    scoring=['neg_log_loss', 'accuracy'], refit='neg_log_loss',\n",
    "    verbose=10, n_jobs=-1\n",
    ")"
   ]
  },
  {
   "cell_type": "markdown",
   "metadata": {},
   "source": [
    "## 训练"
   ]
  },
  {
   "cell_type": "code",
   "execution_count": 14,
   "metadata": {},
   "outputs": [
    {
     "name": "stdout",
     "output_type": "stream",
     "text": [
      "(3524, 25068)\n"
     ]
    }
   ],
   "source": [
    "xsearch, _, ysearch, _ = train_test_split(xtrain_glove_ns, ytrain, random_state=42, stratify=ytrain, train_size=0.2)\n",
    "print(xsearch.shape)"
   ]
  },
  {
   "cell_type": "code",
   "execution_count": 15,
   "metadata": {},
   "outputs": [
    {
     "name": "stdout",
     "output_type": "stream",
     "text": [
      "Fitting 5 folds for each of 24 candidates, totalling 120 fits\n"
     ]
    },
    {
     "name": "stderr",
     "output_type": "stream",
     "text": [
      "[Parallel(n_jobs=-1)]: Using backend LokyBackend with 12 concurrent workers.\n",
      "[Parallel(n_jobs=-1)]: Done   1 tasks      | elapsed:   40.3s\n",
      "[Parallel(n_jobs=-1)]: Done   8 tasks      | elapsed:  1.0min\n",
      "[Parallel(n_jobs=-1)]: Done  17 tasks      | elapsed:  1.6min\n",
      "[Parallel(n_jobs=-1)]: Done  26 tasks      | elapsed:  2.2min\n",
      "[Parallel(n_jobs=-1)]: Done  37 tasks      | elapsed:  2.9min\n",
      "[Parallel(n_jobs=-1)]: Done  48 tasks      | elapsed:  3.8min\n",
      "[Parallel(n_jobs=-1)]: Done  61 tasks      | elapsed:  5.2min\n",
      "[Parallel(n_jobs=-1)]: Done  74 tasks      | elapsed:  6.1min\n",
      "[Parallel(n_jobs=-1)]: Done  89 tasks      | elapsed:  7.0min\n",
      "[Parallel(n_jobs=-1)]: Done 110 out of 120 | elapsed:  8.6min remaining:   46.9s\n",
      "[Parallel(n_jobs=-1)]: Done 120 out of 120 | elapsed:  9.0min finished\n"
     ]
    },
    {
     "data": {
      "text/plain": [
       "GridSearchCV(cv=None, error_score=nan,\n",
       "             estimator=Pipeline(memory=None,\n",
       "                                steps=[('svd',\n",
       "                                        TruncatedSVD(algorithm='randomized',\n",
       "                                                     n_components=2, n_iter=5,\n",
       "                                                     random_state=None,\n",
       "                                                     tol=0.0)),\n",
       "                                       ('scl',\n",
       "                                        StandardScaler(copy=True,\n",
       "                                                       with_mean=True,\n",
       "                                                       with_std=True)),\n",
       "                                       ('svc',\n",
       "                                        SVC(C=1.0, break_ties=False,\n",
       "                                            cache_size=200,\n",
       "                                            class_weight='balanced', coef0=0.0,\n",
       "                                            decision_function_shape='ovr',\n",
       "                                            degr...\n",
       "                                            shrinking=True, tol=0.001,\n",
       "                                            verbose=False))],\n",
       "                                verbose=False),\n",
       "             iid='deprecated', n_jobs=-1,\n",
       "             param_grid={'svc__C': array([1.00000000e-02, 2.15443469e-01, 4.64158883e+00, 1.00000000e+02]),\n",
       "                         'svc__kernel': ['rbf', 'poly'],\n",
       "                         'svd__n_components': [100, 120, 180]},\n",
       "             pre_dispatch='2*n_jobs', refit='neg_log_loss',\n",
       "             return_train_score=False, scoring=['neg_log_loss', 'accuracy'],\n",
       "             verbose=10)"
      ]
     },
     "execution_count": 15,
     "metadata": {},
     "output_type": "execute_result"
    }
   ],
   "source": [
    "model.fit(xsearch, ysearch)"
   ]
  },
  {
   "cell_type": "code",
   "execution_count": 16,
   "metadata": {},
   "outputs": [
    {
     "name": "stdout",
     "output_type": "stream",
     "text": [
      "Best score: -0.819\n",
      "Best parameters set:\n",
      "\tsvc__C: 4.6415888336127775\n",
      "\tsvc__kernel: 'rbf'\n",
      "\tsvd__n_components: 180\n"
     ]
    }
   ],
   "source": [
    "print(\"Best score: %0.3f\" % model.best_score_)\n",
    "print(\"Best parameters set:\")\n",
    "best_parameters = model.best_estimator_.get_params()\n",
    "for param_name in sorted(param_grid.keys()):\n",
    "    print(\"\\t%s: %r\" % (param_name, best_parameters[param_name]))"
   ]
  },
  {
   "cell_type": "code",
   "execution_count": 17,
   "metadata": {},
   "outputs": [
    {
     "name": "stdout",
     "output_type": "stream",
     "text": [
      "train set: logloss: 0.406\n",
      "valid set: logloss: 0.787\n",
      "train set\n",
      "              precision    recall  f1-score   support\n",
      "\n",
      "         EAP      0.916     0.941     0.928      7110\n",
      "         HPL      0.949     0.927     0.938      5071\n",
      "         MWS      0.934     0.921     0.927      5440\n",
      "\n",
      "    accuracy                          0.931     17621\n",
      "   macro avg      0.933     0.930     0.931     17621\n",
      "weighted avg      0.931     0.931     0.931     17621\n",
      "\n",
      "----------------------------------------------------------------------\n",
      "validate set\n",
      "              precision    recall  f1-score   support\n",
      "\n",
      "         EAP      0.709     0.741     0.724       790\n",
      "         HPL      0.691     0.674     0.682       564\n",
      "         MWS      0.683     0.659     0.671       604\n",
      "\n",
      "    accuracy                          0.696      1958\n",
      "   macro avg      0.694     0.691     0.692      1958\n",
      "weighted avg      0.696     0.696     0.696      1958\n",
      "\n"
     ]
    },
    {
     "data": {
      "text/plain": [
       "Pipeline(memory=None,\n",
       "         steps=[('svd',\n",
       "                 TruncatedSVD(algorithm='randomized', n_components=180,\n",
       "                              n_iter=5, random_state=None, tol=0.0)),\n",
       "                ('scl',\n",
       "                 StandardScaler(copy=True, with_mean=True, with_std=True)),\n",
       "                ('svc',\n",
       "                 SVC(C=4.6415888336127775, break_ties=False, cache_size=200,\n",
       "                     class_weight='balanced', coef0=0.0,\n",
       "                     decision_function_shape='ovr', degree=3, gamma='scale',\n",
       "                     kernel='rbf', max_iter=-1, probability=True,\n",
       "                     random_state=None, shrinking=True, tol=0.001,\n",
       "                     verbose=False))],\n",
       "         verbose=False)"
      ]
     },
     "execution_count": 17,
     "metadata": {},
     "output_type": "execute_result"
    },
    {
     "data": {
      "image/png": "[encoded data removed]",
      "text/plain": [
       "<Figure size 432x288 with 2 Axes>"
      ]
     },
     "metadata": {},
     "output_type": "display_data"
    }
   ],
   "source": [
    "evaluate_model(\n",
    "    model.best_estimator_,\n",
    "    'Best Estimator',\n",
    "    xtrain_glove_ns, ytrain,\n",
    "    xvalid_glove_ns, yvalid,\n",
    ")"
   ]
  },
  {
   "cell_type": "code",
   "execution_count": 25,
   "metadata": {},
   "outputs": [
    {
     "data": {
      "text/html": [
       "<div>\n",
       "<style scoped>\n",
       "    .dataframe tbody tr th:only-of-type {\n",
       "        vertical-align: middle;\n",
       "    }\n",
       "\n",
       "    .dataframe tbody tr th {\n",
       "        vertical-align: top;\n",
       "    }\n",
       "\n",
       "    .dataframe thead tr th {\n",
       "        text-align: left;\n",
       "    }\n",
       "</style>\n",
       "<table border=\"1\" class=\"dataframe\">\n",
       "  <thead>\n",
       "    <tr>\n",
       "      <th></th>\n",
       "      <th colspan=\"2\" halign=\"left\">train</th>\n",
       "      <th colspan=\"2\" halign=\"left\">validate</th>\n",
       "    </tr>\n",
       "    <tr>\n",
       "      <th></th>\n",
       "      <th>logloss</th>\n",
       "      <th>accuracy</th>\n",
       "      <th>logloss</th>\n",
       "      <th>accuracy</th>\n",
       "    </tr>\n",
       "  </thead>\n",
       "  <tbody>\n",
       "    <tr>\n",
       "      <th>Best Estimator</th>\n",
       "      <td>0.32538</td>\n",
       "      <td>0.984852</td>\n",
       "      <td>0.692453</td>\n",
       "      <td>0.750187</td>\n",
       "    </tr>\n",
       "  </tbody>\n",
       "</table>\n",
       "</div>"
      ],
      "text/plain": [
       "                  train            validate          \n",
       "                logloss  accuracy   logloss  accuracy\n",
       "Best Estimator  0.32538  0.984852  0.692453  0.750187"
      ]
     },
     "execution_count": 25,
     "metadata": {},
     "output_type": "execute_result"
    }
   ],
   "source": [
    "history"
   ]
  },
  {
   "cell_type": "code",
   "execution_count": null,
   "metadata": {},
   "outputs": [],
   "source": []
  }
 ],
 "metadata": {
  "kernelspec": {
   "display_name": "Python 3",
   "language": "python",
   "name": "python3"
  },
  "language_info": {
   "codemirror_mode": {
    "name": "ipython",
    "version": 3
   },
   "file_extension": ".py",
   "mimetype": "text/x-python",
   "name": "python",
   "nbconvert_exporter": "python",
   "pygments_lexer": "ipython3",
   "version": "3.7.5"
  }
 },
 "nbformat": 4,
 "nbformat_minor": 4
}
