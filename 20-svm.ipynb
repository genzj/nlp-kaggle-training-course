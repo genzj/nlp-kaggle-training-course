{
 "cells": [
  {
   "cell_type": "code",
   "execution_count": 1,
   "metadata": {},
   "outputs": [],
   "source": [
    "import pandas as pd\n",
    "import numpy as np\n",
    "import pickle\n",
    "\n",
    "from sklearn.metrics import log_loss, accuracy_score, classification_report, plot_confusion_matrix, balanced_accuracy_score\n",
    "from sklearn import preprocessing\n",
    "from sklearn.model_selection import train_test_split\n",
    "from sklearn.feature_extraction.text import CountVectorizer\n",
    "from sklearn.svm import SVC, LinearSVC\n",
    "from sklearn.decomposition import TruncatedSVD\n",
    "\n",
    "import matplotlib.pyplot as plt\n",
    "import seaborn as sns\n",
    "\n",
    "from nltk import word_tokenize\n",
    "from nltk.corpus import stopwords\n",
    "\n",
    "%matplotlib inline\n",
    "sns.set()"
   ]
  },
  {
   "cell_type": "code",
   "execution_count": 2,
   "metadata": {},
   "outputs": [],
   "source": [
    "train = pd.read_csv('../input/train.csv')\n",
    "test = pd.read_csv('../input/test.csv')\n",
    "sample = pd.read_csv('../input/sample_submission.csv')"
   ]
  },
  {
   "cell_type": "code",
   "execution_count": 3,
   "metadata": {},
   "outputs": [],
   "source": [
    "lbl_enc = preprocessing.LabelEncoder()\n",
    "y = lbl_enc.fit_transform(train.author.values)"
   ]
  },
  {
   "cell_type": "code",
   "execution_count": 4,
   "metadata": {},
   "outputs": [],
   "source": [
    "history = pd.DataFrame(\n",
    "    [],\n",
    "    columns=pd.MultiIndex.from_product([['train', 'validate'], ['logloss', 'accuracy']]),\n",
    "    dtype='float32'\n",
    ")\n",
    "\n",
    "def evaluate_model(clf, slug, xtrain, ytrain, xvalid, yvalid, fit=True):\n",
    "    global history\n",
    "    if fit:\n",
    "        clf.fit(xtrain, ytrain)\n",
    "\n",
    "    if hasattr(clf, 'decision_function'):\n",
    "        # print loss values\n",
    "        df = clf.decision_function(xtrain)\n",
    "        predictions = np.exp(df) / np.sum(np.exp(df), axis=1, keepdims=True)\n",
    "        print (\"train set: logloss: %0.3f\" % (log_loss(ytrain, predictions), ))\n",
    "        history.loc[slug, ('train', 'logloss')] = log_loss(ytrain, predictions)\n",
    "\n",
    "        df = clf.decision_function(xvalid)\n",
    "        predictions = np.exp(df) / np.sum(np.exp(df), axis=1, keepdims=True)\n",
    "        print (\"valid set: logloss: %0.3f\" % (log_loss(yvalid, predictions), ))\n",
    "        history.loc[slug, ('validate', 'logloss')] = log_loss(yvalid, predictions)\n",
    "    else:\n",
    "        # print loss values\n",
    "        predictions = clf.predict_proba(xtrain)\n",
    "        print (\"train set: logloss: %0.3f\" % (log_loss(ytrain, predictions), ))\n",
    "        history.loc[slug, ('train', 'logloss')] = log_loss(ytrain, predictions)\n",
    "        predictions = clf.predict_proba(xvalid)\n",
    "        print (\"valid set: logloss: %0.3f\" % (log_loss(yvalid, predictions), ))\n",
    "        history.loc[slug, ('validate', 'logloss')] = log_loss(yvalid, predictions)\n",
    "    \n",
    "    # print accuracy matrix\n",
    "    predictions = clf.predict(xtrain)\n",
    "    print('train set')\n",
    "    print(classification_report(ytrain, predictions, target_names=lbl_enc.classes_, digits=3))\n",
    "    print('-' * 70)\n",
    "    predictions = clf.predict(xvalid)\n",
    "    print('validate set')\n",
    "    print(classification_report(yvalid, predictions, target_names=lbl_enc.classes_, digits=3))\n",
    "\n",
    "    plot_confusion_matrix(clf, xvalid, yvalid, display_labels=lbl_enc.classes_, values_format='d', cmap='Blues')\n",
    "    plt.grid(False)\n",
    "    \n",
    "    history.loc[slug, ('train', 'accuracy')] = balanced_accuracy_score(ytrain, clf.predict(xtrain))\n",
    "    history.loc[slug, ('validate', 'accuracy')] = balanced_accuracy_score(yvalid, clf.predict(xvalid))\n",
    "\n",
    "    return clf"
   ]
  },
  {
   "cell_type": "markdown",
   "metadata": {},
   "source": [
    "## 训练样本拆分"
   ]
  },
  {
   "cell_type": "code",
   "execution_count": 5,
   "metadata": {},
   "outputs": [
    {
     "name": "stderr",
     "output_type": "stream",
     "text": [
      "e:\\venvs\\nlp\\lib\\site-packages\\seaborn\\distributions.py:2557: FutureWarning: `distplot` is a deprecated function and will be removed in a future version. Please adapt your code to use either `displot` (a figure-level function with similar flexibility) or `histplot` (an axes-level function for histograms).\n",
      "  warnings.warn(msg, FutureWarning)\n"
     ]
    },
    {
     "name": "stdout",
     "output_type": "stream",
     "text": [
      "origin: [0.40349354 0.28780837 0.30869809]\n",
      "train: [0.40349583 0.28778162 0.30872255]\n",
      "valid: [0.40347293 0.28804903 0.30847804]\n"
     ]
    },
    {
     "data": {
      "image/png": "[encoded data removed]",
      "text/plain": [
       "<Figure size 432x288 with 1 Axes>"
      ]
     },
     "metadata": {},
     "output_type": "display_data"
    }
   ],
   "source": [
    "xtrain, xvalid, ytrain, yvalid = train_test_split(\n",
    "    train.text.values, y, \n",
    "    stratify=y, \n",
    "    random_state=42, \n",
    "    test_size=0.1, shuffle=True\n",
    ")\n",
    "print('origin:', np.bincount(y)/len(y))\n",
    "print('train:', np.bincount(ytrain)/len(ytrain))\n",
    "print('valid:', np.bincount(yvalid)/len(yvalid))"
   ]
  },
  {
   "cell_type": "markdown",
   "metadata": {},
   "source": [
    "## 载入GloVec词向量"
   ]
  },
  {
   "cell_type": "code",
   "execution_count": 6,
   "metadata": {},
   "outputs": [],
   "source": [
    "with open('./data/glove.compress.embeddings.pickle', 'rb') as f:\n",
    "    embeddings_index = pickle.load(f)\n",
    "\n",
    "with open('./data/glove.compress.vocabulary.pickle', 'rb') as f:\n",
    "    vocabulary = pickle.load(f)\n"
   ]
  },
  {
   "cell_type": "markdown",
   "metadata": {},
   "source": [
    "## 特征提取\n",
    "\n",
    "句子 --> 分词 --> 各词特征向量 --> 由词特征向量计算句向量"
   ]
  },
  {
   "cell_type": "code",
   "execution_count": 7,
   "metadata": {},
   "outputs": [],
   "source": [
    "def sentence2vec(sentence, stopwords=set()):\n",
    "    x = np.zeros(len(embeddings_index['a']))\n",
    "    for w in word_tokenize(sentence):\n",
    "        if w in stopwords:\n",
    "            print('stopwords')\n",
    "            continue\n",
    "        if w not in embeddings_index:\n",
    "            continue\n",
    "        x += embeddings_index[w]\n",
    "    return preprocessing.normalize([x])[0]"
   ]
  },
  {
   "cell_type": "code",
   "execution_count": 8,
   "metadata": {},
   "outputs": [],
   "source": [
    "def sentence_array2vec(a, stopwords=set()):\n",
    "    out = np.empty((len(a), 300))\n",
    "    for idx, s in enumerate(a):\n",
    "        out[idx] = sentence2vec(s)\n",
    "    return out"
   ]
  },
  {
   "cell_type": "markdown",
   "metadata": {},
   "source": [
    "## 训练"
   ]
  },
  {
   "cell_type": "code",
   "execution_count": 9,
   "metadata": {},
   "outputs": [],
   "source": [
    "xtrain_glove_ns = sentence_array2vec(xtrain)\n",
    "xvalid_glove_ns = sentence_array2vec(xvalid)"
   ]
  },
  {
   "cell_type": "code",
   "execution_count": 10,
   "metadata": {},
   "outputs": [
    {
     "name": "stdout",
     "output_type": "stream",
     "text": [
      "train set: logloss: 0.736\n",
      "valid set: logloss: 0.751\n",
      "train set\n",
      "              precision    recall  f1-score   support\n",
      "\n",
      "         EAP      0.758     0.688     0.721      7110\n",
      "         HPL      0.696     0.746     0.720      5071\n",
      "         MWS      0.700     0.739     0.719      5440\n",
      "\n",
      "    accuracy                          0.720     17621\n",
      "   macro avg      0.718     0.724     0.720     17621\n",
      "weighted avg      0.723     0.720     0.720     17621\n",
      "\n",
      "----------------------------------------------------------------------\n",
      "validate set\n",
      "              precision    recall  f1-score   support\n",
      "\n",
      "         EAP      0.753     0.711     0.732       790\n",
      "         HPL      0.694     0.738     0.715       564\n",
      "         MWS      0.695     0.705     0.700       604\n",
      "\n",
      "    accuracy                          0.717      1958\n",
      "   macro avg      0.714     0.718     0.716      1958\n",
      "weighted avg      0.718     0.717     0.717      1958\n",
      "\n"
     ]
    },
    {
     "data": {
      "image/png": "[encoded data removed]",
      "text/plain": [
       "<Figure size 432x288 with 2 Axes>"
      ]
     },
     "metadata": {},
     "output_type": "display_data"
    }
   ],
   "source": [
    "clf = evaluate_model(\n",
    "    SVC(kernel='linear', class_weight='balanced'),\n",
    "    'SVM linear kernel',\n",
    "    xtrain_glove_ns, ytrain,\n",
    "    xvalid_glove_ns, yvalid,\n",
    ")"
   ]
  },
  {
   "cell_type": "code",
   "execution_count": 11,
   "metadata": {},
   "outputs": [],
   "source": [
    "svd = TruncatedSVD(n_components=120)\n",
    "svd.fit(np.r_[xtrain_glove_ns, xvalid_glove_ns])\n",
    "xtrain_glove_ns_svd = svd.transform(xtrain_glove_ns)\n",
    "xvalid_glove_ns_svd = svd.transform(xvalid_glove_ns)"
   ]
  },
  {
   "cell_type": "code",
   "execution_count": 12,
   "metadata": {
    "scrolled": false
   },
   "outputs": [
    {
     "name": "stdout",
     "output_type": "stream",
     "text": [
      "train set: logloss: 0.765\n",
      "valid set: logloss: 0.780\n",
      "train set\n",
      "              precision    recall  f1-score   support\n",
      "\n",
      "         EAP      0.747     0.669     0.706      7110\n",
      "         HPL      0.673     0.727     0.699      5071\n",
      "         MWS      0.683     0.726     0.704      5440\n",
      "\n",
      "    accuracy                          0.703     17621\n",
      "   macro avg      0.701     0.707     0.703     17621\n",
      "weighted avg      0.706     0.703     0.703     17621\n",
      "\n",
      "----------------------------------------------------------------------\n",
      "validate set\n",
      "              precision    recall  f1-score   support\n",
      "\n",
      "         EAP      0.743     0.682     0.712       790\n",
      "         HPL      0.664     0.729     0.695       564\n",
      "         MWS      0.686     0.697     0.691       604\n",
      "\n",
      "    accuracy                          0.700      1958\n",
      "   macro avg      0.698     0.703     0.699      1958\n",
      "weighted avg      0.703     0.700     0.700      1958\n",
      "\n"
     ]
    },
    {
     "data": {
      "image/png": "[encoded data removed]",
      "text/plain": [
       "<Figure size 432x288 with 2 Axes>"
      ]
     },
     "metadata": {},
     "output_type": "display_data"
    }
   ],
   "source": [
    "clf = evaluate_model(\n",
    "    SVC(kernel='linear', class_weight='balanced'),\n",
    "    'SVD+SVM linear kernel',\n",
    "    xtrain_glove_ns_svd, ytrain,\n",
    "    xvalid_glove_ns_svd, yvalid,\n",
    ")"
   ]
  },
  {
   "cell_type": "code",
   "execution_count": 13,
   "metadata": {
    "scrolled": false
   },
   "outputs": [
    {
     "name": "stdout",
     "output_type": "stream",
     "text": [
      "train set: logloss: 0.709\n",
      "valid set: logloss: 0.756\n",
      "train set\n",
      "              precision    recall  f1-score   support\n",
      "\n",
      "         EAP      0.777     0.702     0.738      7110\n",
      "         HPL      0.710     0.760     0.734      5071\n",
      "         MWS      0.712     0.756     0.734      5440\n",
      "\n",
      "    accuracy                          0.735     17621\n",
      "   macro avg      0.733     0.739     0.735     17621\n",
      "weighted avg      0.738     0.735     0.736     17621\n",
      "\n",
      "----------------------------------------------------------------------\n",
      "validate set\n",
      "              precision    recall  f1-score   support\n",
      "\n",
      "         EAP      0.752     0.697     0.724       790\n",
      "         HPL      0.690     0.722     0.705       564\n",
      "         MWS      0.676     0.710     0.692       604\n",
      "\n",
      "    accuracy                          0.708      1958\n",
      "   macro avg      0.706     0.710     0.707      1958\n",
      "weighted avg      0.710     0.708     0.709      1958\n",
      "\n"
     ]
    },
    {
     "data": {
      "image/png": "[encoded data removed]",
      "text/plain": [
       "<Figure size 432x288 with 2 Axes>"
      ]
     },
     "metadata": {},
     "output_type": "display_data"
    }
   ],
   "source": [
    "clf = evaluate_model(\n",
    "    SVC(kernel='poly', class_weight='balanced'),\n",
    "    'SVD+SVM poly kernel',\n",
    "    xtrain_glove_ns_svd, ytrain,\n",
    "    xvalid_glove_ns_svd, yvalid,\n",
    ")"
   ]
  },
  {
   "cell_type": "code",
   "execution_count": 14,
   "metadata": {
    "scrolled": false
   },
   "outputs": [
    {
     "name": "stdout",
     "output_type": "stream",
     "text": [
      "train set: logloss: 0.723\n",
      "valid set: logloss: 0.763\n",
      "train set\n",
      "              precision    recall  f1-score   support\n",
      "\n",
      "         EAP      0.769     0.694     0.730      7110\n",
      "         HPL      0.701     0.754     0.726      5071\n",
      "         MWS      0.706     0.747     0.726      5440\n",
      "\n",
      "    accuracy                          0.727     17621\n",
      "   macro avg      0.725     0.731     0.727     17621\n",
      "weighted avg      0.730     0.727     0.728     17621\n",
      "\n",
      "----------------------------------------------------------------------\n",
      "validate set\n",
      "              precision    recall  f1-score   support\n",
      "\n",
      "         EAP      0.752     0.695     0.722       790\n",
      "         HPL      0.686     0.720     0.702       564\n",
      "         MWS      0.675     0.710     0.692       604\n",
      "\n",
      "    accuracy                          0.707      1958\n",
      "   macro avg      0.704     0.708     0.706      1958\n",
      "weighted avg      0.709     0.707     0.707      1958\n",
      "\n"
     ]
    },
    {
     "data": {
      "image/png": "[encoded data removed]",
      "text/plain": [
       "<Figure size 432x288 with 2 Axes>"
      ]
     },
     "metadata": {},
     "output_type": "display_data"
    }
   ],
   "source": [
    "clf = evaluate_model(\n",
    "    SVC(kernel='rbf', class_weight='balanced'),\n",
    "    'SVD+SVM RBF kernel',\n",
    "    xtrain_glove_ns_svd, ytrain,\n",
    "    xvalid_glove_ns_svd, yvalid,\n",
    ")"
   ]
  },
  {
   "cell_type": "code",
   "execution_count": 15,
   "metadata": {},
   "outputs": [
    {
     "name": "stdout",
     "output_type": "stream",
     "text": [
      "train set: logloss: 0.777\n",
      "valid set: logloss: 0.783\n",
      "train set\n",
      "              precision    recall  f1-score   support\n",
      "\n",
      "         EAP      0.734     0.697     0.715      7110\n",
      "         HPL      0.682     0.718     0.700      5071\n",
      "         MWS      0.700     0.711     0.706      5440\n",
      "\n",
      "    accuracy                          0.707     17621\n",
      "   macro avg      0.705     0.709     0.707     17621\n",
      "weighted avg      0.708     0.707     0.708     17621\n",
      "\n",
      "----------------------------------------------------------------------\n",
      "validate set\n",
      "              precision    recall  f1-score   support\n",
      "\n",
      "         EAP      0.730     0.713     0.721       790\n",
      "         HPL      0.680     0.700     0.690       564\n",
      "         MWS      0.695     0.697     0.696       604\n",
      "\n",
      "    accuracy                          0.704      1958\n",
      "   macro avg      0.702     0.703     0.702      1958\n",
      "weighted avg      0.705     0.704     0.704      1958\n",
      "\n"
     ]
    },
    {
     "data": {
      "image/png": "[encoded data removed]",
      "text/plain": [
       "<Figure size 432x288 with 2 Axes>"
      ]
     },
     "metadata": {},
     "output_type": "display_data"
    }
   ],
   "source": [
    "clf = evaluate_model(\n",
    "    LinearSVC(class_weight='balanced'),\n",
    "    'SVD+LinearSVC',\n",
    "    xtrain_glove_ns_svd, ytrain,\n",
    "    xvalid_glove_ns_svd, yvalid,\n",
    ")"
   ]
  },
  {
   "cell_type": "code",
   "execution_count": 16,
   "metadata": {},
   "outputs": [
    {
     "data": {
      "text/html": [
       "<div>\n",
       "<style scoped>\n",
       "    .dataframe tbody tr th:only-of-type {\n",
       "        vertical-align: middle;\n",
       "    }\n",
       "\n",
       "    .dataframe tbody tr th {\n",
       "        vertical-align: top;\n",
       "    }\n",
       "\n",
       "    .dataframe thead tr th {\n",
       "        text-align: left;\n",
       "    }\n",
       "</style>\n",
       "<table border=\"1\" class=\"dataframe\">\n",
       "  <thead>\n",
       "    <tr>\n",
       "      <th></th>\n",
       "      <th colspan=\"2\" halign=\"left\">train</th>\n",
       "      <th colspan=\"2\" halign=\"left\">validate</th>\n",
       "    </tr>\n",
       "    <tr>\n",
       "      <th></th>\n",
       "      <th>logloss</th>\n",
       "      <th>accuracy</th>\n",
       "      <th>logloss</th>\n",
       "      <th>accuracy</th>\n",
       "    </tr>\n",
       "  </thead>\n",
       "  <tbody>\n",
       "    <tr>\n",
       "      <th>SVM linear kernel</th>\n",
       "      <td>0.735733</td>\n",
       "      <td>0.724134</td>\n",
       "      <td>0.750535</td>\n",
       "      <td>0.718093</td>\n",
       "    </tr>\n",
       "    <tr>\n",
       "      <th>SVD+SVM poly kernel</th>\n",
       "      <td>0.709209</td>\n",
       "      <td>0.739376</td>\n",
       "      <td>0.756131</td>\n",
       "      <td>0.709788</td>\n",
       "    </tr>\n",
       "    <tr>\n",
       "      <th>SVD+SVM RBF kernel</th>\n",
       "      <td>0.722749</td>\n",
       "      <td>0.731475</td>\n",
       "      <td>0.762915</td>\n",
       "      <td>0.708353</td>\n",
       "    </tr>\n",
       "    <tr>\n",
       "      <th>SVD+SVM linear kernel</th>\n",
       "      <td>0.764583</td>\n",
       "      <td>0.707149</td>\n",
       "      <td>0.780307</td>\n",
       "      <td>0.702674</td>\n",
       "    </tr>\n",
       "    <tr>\n",
       "      <th>SVD+LinearSVC</th>\n",
       "      <td>0.777261</td>\n",
       "      <td>0.708741</td>\n",
       "      <td>0.782929</td>\n",
       "      <td>0.703344</td>\n",
       "    </tr>\n",
       "  </tbody>\n",
       "</table>\n",
       "</div>"
      ],
      "text/plain": [
       "                          train            validate          \n",
       "                        logloss  accuracy   logloss  accuracy\n",
       "SVM linear kernel      0.735733  0.724134  0.750535  0.718093\n",
       "SVD+SVM poly kernel    0.709209  0.739376  0.756131  0.709788\n",
       "SVD+SVM RBF kernel     0.722749  0.731475  0.762915  0.708353\n",
       "SVD+SVM linear kernel  0.764583  0.707149  0.780307  0.702674\n",
       "SVD+LinearSVC          0.777261  0.708741  0.782929  0.703344"
      ]
     },
     "execution_count": 16,
     "metadata": {},
     "output_type": "execute_result"
    }
   ],
   "source": [
    "history.sort_values(by=('validate', 'logloss'))"
   ]
  },
  {
   "cell_type": "code",
   "execution_count": null,
   "metadata": {},
   "outputs": [],
   "source": []
  }
 ],
 "metadata": {
  "kernelspec": {
   "display_name": "Python 3",
   "language": "python",
   "name": "python3"
  },
  "language_info": {
   "codemirror_mode": {
    "name": "ipython",
    "version": 3
   },
   "file_extension": ".py",
   "mimetype": "text/x-python",
   "name": "python",
   "nbconvert_exporter": "python",
   "pygments_lexer": "ipython3",
   "version": "3.7.5"
  }
 },
 "nbformat": 4,
 "nbformat_minor": 4
}
